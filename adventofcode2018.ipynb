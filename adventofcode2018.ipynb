{
 "cells": [
  {
   "cell_type": "markdown",
   "metadata": {},
   "source": [
    "### Advent of Code 2018\n",
    "\n",
    "Starting on 1 December 2018 and, every day until the 25 December 2018, a new two-part puzzle is available. Providing a correct answer to the first part of the puzzle will give you a gold star. If you complete both parts, you receive... two gold stars. The description for the second part of the puzzle is only shown after solving part one. \n",
    "\n",
    "I will not copy here the complete descriptions of the puzzle. Follow the links in each section to understand what is asked in each puzzle.\n",
    "\n",
    "Let's start with some imports and functions that will be used to solve the puzzles."
   ]
  },
  {
   "cell_type": "code",
   "execution_count": 1,
   "metadata": {},
   "outputs": [],
   "source": [
    "import os\n",
    "from collections import defaultdict, Counter, namedtuple, deque\n",
    "from itertools import cycle, product, chain, count\n",
    "from datetime import datetime\n",
    "import re\n",
    "import string \n",
    "import matplotlib.pyplot as plt\n",
    "from enum import Enum\n",
    "\n",
    "#file input\n",
    "def read_input(day, file_path='input/d{}.txt'):\n",
    "    with open(file_path.format(day), 'r') as f:\n",
    "        _input = f.read().splitlines()\n",
    "        \n",
    "    return _input\n",
    "\n",
    "def read_line(day, file_path='input/d{}.txt'):\n",
    "    with open(file_path.format(day), 'r') as f:\n",
    "        _input = f.readline().strip()\n",
    "        \n",
    "    return _input\n",
    "\n",
    "def read_input_string(day, file_path='input/d{}.txt'):\n",
    "    with open(file_path.format(day), 'r') as f:\n",
    "        _input = f.read().strip()\n",
    "        \n",
    "    return _input    "
   ]
  },
  {
   "cell_type": "markdown",
   "metadata": {},
   "source": [
    "### [Day 1: Chronal Calibration](https://adventofcode.com/2018/day/1)\n",
    "\n",
    "The input for the first puzzle is a list of integers, one per line, representing the frequency changes. Let's have a look at the first few lines in the input file."
   ]
  },
  {
   "cell_type": "code",
   "execution_count": 2,
   "metadata": {},
   "outputs": [
    {
     "data": {
      "text/plain": [
       "['-8', '-18', '-14', '-10', '-7', '-10', '-16', '+19', '-5', '-7']"
      ]
     },
     "execution_count": 2,
     "metadata": {},
     "output_type": "execute_result"
    }
   ],
   "source": [
    "input_d01 = read_input('01')\n",
    "        \n",
    "input_d01[:10]"
   ]
  },
  {
   "cell_type": "markdown",
   "metadata": {},
   "source": [
    "##### Part One\n",
    "> Starting with a frequency of zero, what is the resulting frequency after all of the changes in frequency have been applied?\n",
    "\n",
    "That's easy! The resulting frequency corresponds to the sum of all the frequency changes"
   ]
  },
  {
   "cell_type": "code",
   "execution_count": 3,
   "metadata": {},
   "outputs": [
    {
     "data": {
      "text/plain": [
       "497"
      ]
     },
     "execution_count": 3,
     "metadata": {},
     "output_type": "execute_result"
    }
   ],
   "source": [
    "def d01_p1():\n",
    "    chgs = [int(x) for x in input_d01]\n",
    "        \n",
    "    return sum(chgs)\n",
    "\n",
    "d01_p1()"
   ]
  },
  {
   "cell_type": "markdown",
   "metadata": {},
   "source": [
    "Submiting the output above will earn us our first star. On to part 2\n",
    "\n",
    "##### Part Two\n",
    "> What is the first frequency your device reaches twice?\n",
    "\n",
    "Reading carefully the description we realize that we have to loop multiple times over the input frequency changes. After a quick search I found __[itertools.cycle](https://docs.python.org/3.6/library/itertools.html#itertools.cycle)__. This allow us to make an iterator that repeats indefinitely over the elementos of the input list. In each iteration, the resulting frequency is added to the set if not visited previously. The process stops when a match is found in the set.  \n",
    "\n",
    "<b>Important:</b> Remember to add the initial frequency (zero) to the set. Otherwise the solution fails for the trivial case: [-1, +1]"
   ]
  },
  {
   "cell_type": "code",
   "execution_count": 4,
   "metadata": {},
   "outputs": [
    {
     "data": {
      "text/plain": [
       "558"
      ]
     },
     "execution_count": 4,
     "metadata": {},
     "output_type": "execute_result"
    }
   ],
   "source": [
    "def d01_p2():\n",
    "    chgs = [int(x) for x in input_d01]\n",
    "    \n",
    "    f = 0                  #starting frequency\n",
    "    visited = set([f])     #store the starting frequency\n",
    "    for c in cycle(chgs): \n",
    "        f += c\n",
    "        if f in visited:\n",
    "            return f\n",
    "        else:\n",
    "            visited.add(f)\n",
    "\n",
    "d01_p2()"
   ]
  },
  {
   "cell_type": "markdown",
   "metadata": {},
   "source": [
    "That's our second star. The first puzzle and first day are completed.\n",
    "\n",
    "### [Day 2: Inventory Management System](https://adventofcode.com/2018/day/2)\n",
    "\n",
    "Today the input is a list of box IDs"
   ]
  },
  {
   "cell_type": "code",
   "execution_count": 5,
   "metadata": {
    "scrolled": false
   },
   "outputs": [
    {
     "data": {
      "text/plain": [
       "['bazvmqthjtrnlosiecxyghkwud',\n",
       " 'pazvmqbijirzlosiecxyghkwud',\n",
       " 'pazvtqbmjtrnlosiecxyghkwzd',\n",
       " 'pazvmqbfjtrjlosnlcxyghkwud',\n",
       " 'pazvkqbfjtrtlosiecjyghkwud',\n",
       " 'paztmqbfjtrnbosiecxyglkwud',\n",
       " 'pazvmqbfjtunlosievxmghkwud',\n",
       " 'pazvmqbfjtmngosiecyyghkwud',\n",
       " 'jazvmqbfjtrnlosiecxygikpud',\n",
       " 'pazvqqbfctrnlosimcxyghkwud']"
      ]
     },
     "execution_count": 5,
     "metadata": {},
     "output_type": "execute_result"
    }
   ],
   "source": [
    "input_d02 = read_input('02')\n",
    "        \n",
    "input_d02[:10]"
   ]
  },
  {
   "cell_type": "markdown",
   "metadata": {},
   "source": [
    "##### Part One\n",
    "\n",
    "Our objective is to identify the number of box IDs that contain a letter which appears exactly twice and those that have a letter that appears exactly three times. Multiplying these two numbers produces a \"checksum\" which is the answer to our puzzle.\n",
    "\n",
    "> What is the checksumfor your list of box IDs?"
   ]
  },
  {
   "cell_type": "code",
   "execution_count": 6,
   "metadata": {},
   "outputs": [
    {
     "data": {
      "text/plain": [
       "8296"
      ]
     },
     "execution_count": 6,
     "metadata": {},
     "output_type": "execute_result"
    }
   ],
   "source": [
    "def d02_p1():   \n",
    "    has_two = 0\n",
    "    has_three = 0\n",
    "\n",
    "    for i in input_d02:\n",
    "        c = Counter(i)\n",
    "        if len([k for k,v in c.items() if v == 2]) > 0:\n",
    "            has_two += 1\n",
    "        if len([k for k,v in c.items() if v == 3]) > 0:\n",
    "            has_three += 1\n",
    "            \n",
    "    return has_two * has_three\n",
    "\n",
    "d02_p1()"
   ]
  },
  {
   "cell_type": "markdown",
   "metadata": {},
   "source": [
    "#### Part Two\n",
    "\n",
    "The boxes full of prototype fabric will have IDs which differ by exactly one character at the same position in both strings\n",
    "\n",
    "> What letters are common between the two correct box IDs?\n",
    "\n",
    "Let's start by identifying the boxes that differ by exactly one letter at the same position."
   ]
  },
  {
   "cell_type": "code",
   "execution_count": 7,
   "metadata": {},
   "outputs": [
    {
     "name": "stdout",
     "output_type": "stream",
     "text": [
      "Candidate boxes: pazvmqbfjtrbeosiecxlghkwud and pazvmqbfotrbeosiecxlghkwud\n"
     ]
    }
   ],
   "source": [
    "def d02_p2():    \n",
    "    for box_id1 in input_d02:\n",
    "        for box_id2 in input_d02:\n",
    "            if len([i for i in range(len(box_id1)) if box_id1[i] != box_id2[i]]) == 1:\n",
    "                print('Candidate boxes: {} and {}'.format(box_id1, box_id2))\n",
    "                return (box_id1, box_id2)\n",
    "            \n",
    "(box_id1, box_id2) = d02_p2()                "
   ]
  },
  {
   "cell_type": "markdown",
   "metadata": {},
   "source": [
    "We found our candidate boxes, we need just to find the letters that are common to both boxes - this is as simple as removing the differing character from either of the boxes."
   ]
  },
  {
   "cell_type": "code",
   "execution_count": 8,
   "metadata": {},
   "outputs": [
    {
     "data": {
      "text/plain": [
       "'pazvmqbftrbeosiecxlghkwud'"
      ]
     },
     "execution_count": 8,
     "metadata": {},
     "output_type": "execute_result"
    }
   ],
   "source": [
    "ans = []\n",
    "for i in range(len(box_id1)):\n",
    "    if box_id1[i] == box_id2[i]:\n",
    "        ans.append(box_id1[i])\n",
    "        \n",
    "\"\".join(ans)"
   ]
  },
  {
   "cell_type": "markdown",
   "metadata": {},
   "source": [
    "That's our second star. The second puzzle and second day are completed.\n",
    "\n",
    "### [Day 3: No Matter How You Slice It](https://adventofcode.com/2018/day/3)\n",
    "\n",
    "Today's input is a list of claims.\n",
    "\n",
    "Each Elf has made a claim about which area of fabric would be ideal for Santa's suit. All claims have an ID and consist of a single rectangle with edges parallel to the edges of the fabric. Each claim's rectangle is defined as follows:\n",
    "\n",
    "    The number of inches between the left edge of the fabric and the left edge of the rectangle.\n",
    "    The number of inches between the top edge of the fabric and the top edge of the rectangle.\n",
    "    The width of the rectangle in inches.\n",
    "    The height of the rectangle in inches.\n",
    "    \n",
    "#### Part One    \n",
    "    \n",
    "> How many square inches of fabric are within two or more claims?    \n"
   ]
  },
  {
   "cell_type": "code",
   "execution_count": 9,
   "metadata": {},
   "outputs": [
    {
     "data": {
      "text/plain": [
       "['#1 @ 151,671: 11x15',\n",
       " '#2 @ 887,913: 28x22',\n",
       " '#3 @ 808,917: 17x11',\n",
       " '#4 @ 727,230: 26x26',\n",
       " '#5 @ 638,853: 21x20',\n",
       " '#6 @ 713,106: 17x18',\n",
       " '#7 @ 745,709: 18x15',\n",
       " '#8 @ 550,92: 29x19',\n",
       " '#9 @ 389,659: 26x24',\n",
       " '#10 @ 501,813: 27x29']"
      ]
     },
     "execution_count": 9,
     "metadata": {},
     "output_type": "execute_result"
    }
   ],
   "source": [
    "input_d03 = read_input('03')\n",
    "        \n",
    "input_d03[:10]"
   ]
  },
  {
   "cell_type": "markdown",
   "metadata": {},
   "source": [
    "Let's first start by parsing the input file. Each line represents a claim with format: \n",
    "\n",
    "> \\#claimID @ x,y: wxh\n",
    "\n",
    "We could do this using the function [split()](https://docs.python.org/3/library/stdtypes.html#str.split) to partition the line into words and extract the claim details, or using the fact that all the claim attributes are integers, we can create a simple regex to match an integer and [findall()](https://docs.python.org/3/library/re.html#re.findall) to return all the instances of these in the input."
   ]
  },
  {
   "cell_type": "code",
   "execution_count": 10,
   "metadata": {},
   "outputs": [
    {
     "data": {
      "text/plain": [
       "['1', '151', '671', '11', '15']"
      ]
     },
     "execution_count": 10,
     "metadata": {},
     "output_type": "execute_result"
    }
   ],
   "source": [
    "re.findall(r'\\d+', input_d03[0])"
   ]
  },
  {
   "cell_type": "markdown",
   "metadata": {},
   "source": [
    "Let's lay all the claims on the fabric for Santa's suit"
   ]
  },
  {
   "cell_type": "code",
   "execution_count": 11,
   "metadata": {},
   "outputs": [
    {
     "data": {
      "image/png": "[encoded data removed]",
      "text/plain": [
       "<Figure size 576x576 with 1 Axes>"
      ]
     },
     "metadata": {
      "needs_background": "light"
     },
     "output_type": "display_data"
    }
   ],
   "source": [
    "import numpy as np\n",
    "\n",
    "%matplotlib inline\n",
    "import matplotlib.pyplot as plt\n",
    "from matplotlib.collections import PatchCollection\n",
    "from matplotlib.patches import Rectangle\n",
    "from matplotlib import cm\n",
    "\n",
    "fabric = np.zeros(shape=(1000,1000))\n",
    "\n",
    "patches = []\n",
    "fig, ax = plt.subplots(figsize=(8,8))\n",
    "ax.set_title(\"Claims\")\n",
    "\n",
    "for claim in input_d03:\n",
    "    claimID, x, y, w, h = [int(n) for n in re.findall('\\d+', claim)]\n",
    "    fabric[y:y+h,x:x+w] += 1\n",
    "    \n",
    "    patches.append(Rectangle((x,y), w,h, label=str(claimID)))\n",
    "    \n",
    "pc = PatchCollection(patches, alpha=0.5, facecolor=None, edgecolor=\"white\")\n",
    "ax.add_collection(pc)\n",
    "\n",
    "ax.imshow(fabric);"
   ]
  },
  {
   "cell_type": "markdown",
   "metadata": {},
   "source": [
    "We can use a [dictionary](https://docs.python.org/3/library/collections.html#collections.defaultdict) to store all the claimed squares and the number of times each was claimed. The answer to part one of the puzzle corresponds to the number of keys in the dictionary that have a value greater than one."
   ]
  },
  {
   "cell_type": "code",
   "execution_count": 12,
   "metadata": {},
   "outputs": [
    {
     "data": {
      "text/plain": [
       "124850"
      ]
     },
     "execution_count": 12,
     "metadata": {},
     "output_type": "execute_result"
    }
   ],
   "source": [
    "def d03_p1():\n",
    "    claimed_squares = defaultdict(int)\n",
    "    for claim in input_d03:\n",
    "        claim_id, x, y, w, h = [int(n) for n in re.findall('\\d+', claim)]\n",
    "        for xy in product(range(x, x+w), range(y, y+h)):\n",
    "            claimed_squares[xy] += 1\n",
    "    return sum(1 for v in claimed_squares.values() if v > 1)\n",
    "\n",
    "d03_p1()"
   ]
  },
  {
   "cell_type": "markdown",
   "metadata": {},
   "source": [
    "#### Part Two\n",
    "> What is the ID of the only claim that doesn't overlap?\n",
    "\n",
    "A claim will not overlap with any other claim if all its squares have value one in the claimed squares dictionary."
   ]
  },
  {
   "cell_type": "code",
   "execution_count": 13,
   "metadata": {},
   "outputs": [
    {
     "data": {
      "text/plain": [
       "1097"
      ]
     },
     "execution_count": 13,
     "metadata": {},
     "output_type": "execute_result"
    }
   ],
   "source": [
    "def d03_p2():\n",
    "    claimed_squares = defaultdict(int)\n",
    "    #store claims\n",
    "    for claim in input_d03:\n",
    "        claim_id, x, y, w, h = [int(n) for n in re.findall('\\d+', claim)]\n",
    "        for xy in product(range(x, x+w), range(y, y+h)):\n",
    "            claimed_squares[xy] += 1\n",
    "            \n",
    "    #find the claim with squares not claimed by any other Elf\n",
    "    for claim in input_d03:\n",
    "        claim_id, x, y, w, h = [int(n) for n in re.findall('\\d+', claim)]\n",
    "        if all(claimed_squares[xy] == 1 for xy in product(range(x, x+w), range(y, y+h))):\n",
    "            return claim_id\n",
    "        \n",
    "d03_p2()"
   ]
  },
  {
   "cell_type": "markdown",
   "metadata": {},
   "source": [
    "And that's the third day completed!\n",
    "\n",
    "### [Day 4: Repose Record](https://adventofcode.com/2018/day/4)\n",
    "\n",
    "For day four we are given a log containing the ID of the guard on duty on a given night as well as when they fall asleep or wake up while at their post. \n",
    "\n",
    "#### Part One\n",
    "\n",
    ">Find the guard that has the most minutes asleep. What minute does that guard spend asleep the most?  \n",
    ">What is the ID of the guard you chose multiplied by the minute you chose?\n",
    "\n",
    "As usual, let's start by having a look at the format of our puzzle input."
   ]
  },
  {
   "cell_type": "code",
   "execution_count": 14,
   "metadata": {},
   "outputs": [
    {
     "data": {
      "text/plain": [
       "['[1518-05-24 23:56] Guard #1721 begins shift',\n",
       " '[1518-08-22 00:09] falls asleep',\n",
       " '[1518-05-19 00:53] wakes up',\n",
       " '[1518-04-19 23:48] Guard #773 begins shift',\n",
       " '[1518-09-24 00:35] wakes up',\n",
       " '[1518-07-15 00:56] wakes up',\n",
       " '[1518-08-10 00:03] Guard #769 begins shift',\n",
       " '[1518-07-10 00:50] wakes up',\n",
       " '[1518-07-12 00:54] falls asleep',\n",
       " '[1518-05-30 00:51] wakes up']"
      ]
     },
     "execution_count": 14,
     "metadata": {},
     "output_type": "execute_result"
    }
   ],
   "source": [
    "input_d04 = read_input('04')\n",
    "        \n",
    "input_d04[:10]"
   ]
  },
  {
   "cell_type": "markdown",
   "metadata": {},
   "source": [
    "As all asleep/awake times are during the midnight hour (00:00 - 00:59), only the minute portion (00 - 59) is relevant for those events. We can store the guards sleep patterns in a dictionary of lists (of integers), where each list has 60 elements."
   ]
  },
  {
   "cell_type": "code",
   "execution_count": 15,
   "metadata": {},
   "outputs": [],
   "source": [
    "def sleep_pattern():\n",
    "    sleep = defaultdict(lambda:[0 for x in range(60)]) # sleepTimes[guard] = [1, 0, 0, 1...]\n",
    "    #sleep = defaultdict(lambda: defaultdict(int))\n",
    "    #Compute the sleep times for all the guards\n",
    "    for event in sorted(input_d04):\n",
    "        time, action = event[1:].split(\"] \")\n",
    "        date = datetime.strptime(time, '%Y-%m-%d %H:%M')\n",
    "\n",
    "        if \"Guard\" in action:\n",
    "            guard = int(re.findall(\"[\\d]+\", action)[0])\n",
    "        elif \"asleep\" in action:\n",
    "            start = date.minute\n",
    "        elif \"wakes\" in action:\n",
    "            end = date.minute\n",
    "            for m in range(start, end):\n",
    "                sleep[guard][m] += 1\n",
    "    \n",
    "    return sleep"
   ]
  },
  {
   "cell_type": "code",
   "execution_count": 16,
   "metadata": {},
   "outputs": [
    {
     "data": {
      "text/plain": [
       "38813"
      ]
     },
     "execution_count": 16,
     "metadata": {},
     "output_type": "execute_result"
    }
   ],
   "source": [
    "def d04_p1():\n",
    "    sleep = sleep_pattern()\n",
    "    \n",
    "    guard_most_sleep = max(sleep.keys(), key = (lambda g: sum(sleep[g])))\n",
    "    minute_most_asleep = sleep[guard_most_sleep].index(max(sleep[guard_most_sleep]))\n",
    "    \n",
    "    return guard_most_sleep * minute_most_asleep\n",
    "\n",
    "d04_p1()"
   ]
  },
  {
   "cell_type": "markdown",
   "metadata": {},
   "source": [
    "#### Part Two\n",
    "\n",
    "> Of all guards, which guard is most frequently asleep on the same minute?  \n",
    "> What is the ID of the guard you chose multiplied by the minute you chose?"
   ]
  },
  {
   "cell_type": "code",
   "execution_count": 17,
   "metadata": {},
   "outputs": [
    {
     "data": {
      "text/plain": [
       "141071"
      ]
     },
     "execution_count": 17,
     "metadata": {},
     "output_type": "execute_result"
    }
   ],
   "source": [
    "def d04_p2():\n",
    "    sleep = sleep_pattern()\n",
    "    \n",
    "    guard_most_sleep_minute = max(sleep.keys(), key=lambda g: max(sleep[g]))\n",
    "    minute_most_asleep = sleep[guard_most_sleep_minute].index(max(sleep[guard_most_sleep_minute]))\n",
    "\n",
    "    return guard_most_sleep_minute * minute_most_asleep\n",
    "\n",
    "d04_p2()\n"
   ]
  },
  {
   "cell_type": "markdown",
   "metadata": {},
   "source": [
    "### [Day 5: Alchemical Reduction](https://adventofcode.com/2018/day/5)\n",
    "\n",
    "In day five we analyse the chemical composition of santa's suit's material. The suit's material is made of a polymer formed by smaller units which, when triggered, react with each other such that two adjacent units of the same type and opposite polarity are destroyed. \n",
    "\n",
    "#### Part One\n",
    "\n",
    ">How many units remain after fully reacting the polymer you scanned?"
   ]
  },
  {
   "cell_type": "code",
   "execution_count": 18,
   "metadata": {},
   "outputs": [
    {
     "data": {
      "text/plain": [
       "'bBkKQqgaAGzyYZCcGgXVvGgxQxtTXwWqJOojHhWwHhAaIZKkzcCCcHhqhHbBnNNnTtFfQzZiGgeEmHhg'"
      ]
     },
     "execution_count": 18,
     "metadata": {},
     "output_type": "execute_result"
    }
   ],
   "source": [
    "input_d05 = read_line('05')\n",
    "\n",
    "input_d05[:80]"
   ]
  },
  {
   "cell_type": "markdown",
   "metadata": {},
   "source": [
    "Units' types are represented by letters; units' polarity is represented by capitalization. For instance, r and R are units with the same type but opposite polarity, whereas r and s are entirely different types and do not react. We know that \n",
    "\n",
    "    The ASCII codes for a-z are 97-122  \n",
    "    The ASCII codes for A-Z are 65-90\n",
    "\n",
    "So, for any given upper case letter, we obtain its corresponding lower case counterparty by adding 32 to its ASCII code. For example, \n",
    ">The ASCII code for 'A' = 65 and 65 + 32 = 97 which is the ASCII code for 'a'. \n",
    "\n",
    "We can use this information to define a small function that checks if two units react. "
   ]
  },
  {
   "cell_type": "code",
   "execution_count": 19,
   "metadata": {},
   "outputs": [],
   "source": [
    "def react(unit1, unit2):\n",
    "    return abs(ord(unit1)-ord(unit2)) == 32"
   ]
  },
  {
   "cell_type": "markdown",
   "metadata": {},
   "source": [
    "We can use this function as we iterate over the list to fully react the polymer"
   ]
  },
  {
   "cell_type": "code",
   "execution_count": 20,
   "metadata": {},
   "outputs": [
    {
     "data": {
      "text/plain": [
       "10598"
      ]
     },
     "execution_count": 20,
     "metadata": {},
     "output_type": "execute_result"
    }
   ],
   "source": [
    "def react_polymer(polymer):\n",
    "    res = []\n",
    "    res.append(polymer[0])\n",
    "    \n",
    "    for p in polymer[1:]:\n",
    "        if len(res) > 0 and react(p, res[-1]):\n",
    "            res.pop()\n",
    "        else:\n",
    "            res.append(p)\n",
    "    \n",
    "    return len(res)\n",
    "\n",
    "def d05_p1(polymer):   \n",
    "    return react_polymer(polymer)\n",
    "    \n",
    "d05_p1(input_d05)"
   ]
  },
  {
   "cell_type": "markdown",
   "metadata": {},
   "source": [
    "#### Part Two\n",
    "\n",
    "> What is the length of the shortest polymer you can produce by removing all units of exactly one type and fully reacting the result?"
   ]
  },
  {
   "cell_type": "code",
   "execution_count": 21,
   "metadata": {},
   "outputs": [
    {
     "data": {
      "text/plain": [
       "5312"
      ]
     },
     "execution_count": 21,
     "metadata": {},
     "output_type": "execute_result"
    }
   ],
   "source": [
    "def d05_p2(polymer):\n",
    "    units = set([c.lower() for c in polymer])\n",
    "\n",
    "    return min([react_polymer(polymer.replace(u, '').replace(u.upper(), '')) for u in units])\n",
    "\n",
    "d05_p2(input_d05)   "
   ]
  },
  {
   "cell_type": "markdown",
   "metadata": {},
   "source": [
    "### [Day 6: Chronal Coordinates](https://adventofcode.com/2018/day/6)\n",
    "\n",
    "Today's input is a list of coordinates on a two dimensional space. Using only the [Manhattan distance](https://en.wikipedia.org/wiki/Taxicab_geometry) we need to  determine the area around each coordinate consisting of all the points that are closest to that coordinate (and aren't tied in distance to any other coordinate), ie, we need to create a [Voronoi diagram](https://en.wikipedia.org/wiki/Voronoi_diagram).\n",
    "\n",
    "#### Part One\n",
    "\n",
    "> What is the size of the largest area that isn't infinite?\n",
    "\n",
    "We start by reading the input and defining a function to calculate the manhattan distance between two points in a two dimensional space."
   ]
  },
  {
   "cell_type": "code",
   "execution_count": 22,
   "metadata": {},
   "outputs": [],
   "source": [
    "input_d06 = read_input('06')\n",
    "\n",
    "def manhattan_distance(a, b):\n",
    "    '''Manhattan distance between two points on a two dimensional space'''\n",
    "    return abs(a[0] - b[0]) + abs(a[1] - b[1])"
   ]
  },
  {
   "cell_type": "markdown",
   "metadata": {},
   "source": [
    "We can define a grid that contains all the given coordinates and for each point on this grid, calculate the coordinate that is closest to it. \n",
    "\n",
    "First a function to calculate the closest coordinate for a given point."
   ]
  },
  {
   "cell_type": "code",
   "execution_count": 23,
   "metadata": {},
   "outputs": [],
   "source": [
    "def closest_coordinate(p, coordinates):\n",
    "    distance = {}\n",
    "    for c in coordinates:\n",
    "        distance[c] = manhattan_distance(p, c)\n",
    "\n",
    "    #return the coordinate that is closest to p if there is no tie\n",
    "    p1, p2 = sorted(distance.items(), key=lambda kv: kv[1])[:2]\n",
    "    return p1[0] if p1[1] < p2[1] else None      \n"
   ]
  },
  {
   "cell_type": "markdown",
   "metadata": {},
   "source": [
    "The only thing left is to identify the areas that expand infinitely. \n",
    "\n",
    "If for a given coordinate, it exists a point on the perimeter of the grid that is part of its corresponding area (points that are closest to that particular coordinate), this coordinate will also be the closest to every point extending outward along the line perpendicular to that point on the perimeter. \n",
    "\n",
    "If a coordinate is not the closest coordinate to any point on the perimeter box it's area is bounded by the area of the box, ie, its area is not infinite. \n",
    "\n",
    "So the infinite areas are those that touch the edges of the perimeter box."
   ]
  },
  {
   "cell_type": "code",
   "execution_count": 24,
   "metadata": {},
   "outputs": [
    {
     "data": {
      "text/plain": [
       "6047"
      ]
     },
     "execution_count": 24,
     "metadata": {},
     "output_type": "execute_result"
    }
   ],
   "source": [
    "def d06_p1(coordinates):\n",
    "    min_x = (min(coordinates, key =lambda p: p[0])[0])\n",
    "    max_x = (max(coordinates, key =lambda p: p[0])[0])\n",
    "    min_y = (min(coordinates, key =lambda p: p[1])[1])\n",
    "    max_y = (max(coordinates, key =lambda p: p[1])[1])\n",
    "    \n",
    "    grid = product(range(min_x, max_x), range(min_y, max_y))\n",
    "   \n",
    "    area_size = Counter(closest_coordinate(p, coordinates) for p in grid)\n",
    "\n",
    "    perimeter_box = chain([(x, min_y) for x in range(min_x, max_x)],\n",
    "                          [(x, max_y) for x in range(min_x, max_x)],\n",
    "                          [(min_x, y) for y in range(min_y, max_y)],\n",
    "                          [(max_x, y) for y in range(min_y, max_y)])\n",
    "        \n",
    "    #infinite areas: areas that touch the edges of the perimeter box\n",
    "    infinite_areas = set()\n",
    "    for pb in perimeter_box:\n",
    "        coord = closest_coordinate(pb, coordinates)\n",
    "        if coord is not None:\n",
    "            infinite_areas.add(coord)\n",
    "    \n",
    "    #remove the infinite areas from the dictionary\n",
    "    #for c in infinite_areas:\n",
    "    #    area_size.pop(c, None)      \n",
    "    #return max(area_size.values())\n",
    "    \n",
    "    return max(size for c, size in area_size.items() if c not in infinite_areas)\n",
    "\n",
    "coordinates = [tuple(map(int, c.split(', '))) for c in input_d06]\n",
    "\n",
    "d06_p1(coordinates)"
   ]
  },
  {
   "cell_type": "markdown",
   "metadata": {},
   "source": [
    "#### Part Two\n",
    "\n",
    ">What is the size of the region containing all locations which have a total distance to all given coordinates of less than 10000?"
   ]
  },
  {
   "cell_type": "code",
   "execution_count": 25,
   "metadata": {},
   "outputs": [
    {
     "data": {
      "text/plain": [
       "46320"
      ]
     },
     "execution_count": 25,
     "metadata": {},
     "output_type": "execute_result"
    }
   ],
   "source": [
    "def d06_p2(coordinates, max_distance=10000):\n",
    "    max_x = (max(coordinates, key =lambda p: p[0])[0])\n",
    "    max_y = (max(coordinates, key =lambda p: p[1])[1])\n",
    "    \n",
    "    grid = product(range(max_x+1), range(max_y+1))\n",
    "    \n",
    "    region = 0\n",
    "    for p in grid:\n",
    "        total_distance = sum(manhattan_distance(p, x) for x in coordinates)\n",
    "        if total_distance < max_distance:\n",
    "            region += 1\n",
    "            \n",
    "    return region\n",
    "       \n",
    "d06_p2(coordinates)"
   ]
  },
  {
   "cell_type": "markdown",
   "metadata": {},
   "source": [
    "### [Day 7: The Sum of Its Parts](https://adventofcode.com/2018/day/7)\n",
    "\n",
    "In Day 7 we help the Elves building Santa's Sleigh. The puzzle input consists of a set of instructions specifying a series of steps and requirements about which steps must be finished before others can begin. Each step is designated by a single letter. Our goal is to determine the order in which the steps should be completed. If more than one step is ready, choose the step which is first alphabetically.\n",
    "\n",
    "\n",
    "\n",
    "#### Part One\n",
    "\n",
    ">In what order should the steps in your instructions be completed?\n",
    "\n",
    "This is a problem of [Topological Sorting](https://en.wikipedia.org/wiki/Topological_sorting) so I'm going to use [Kahn's algorithm](https://en.wikipedia.org/wiki/Topological_sorting#Kahn's_algorithm) to try and solve it."
   ]
  },
  {
   "cell_type": "code",
   "execution_count": 26,
   "metadata": {},
   "outputs": [
    {
     "data": {
      "text/plain": [
       "['Step S must be finished before step C can begin.',\n",
       " 'Step C must be finished before step R can begin.',\n",
       " 'Step L must be finished before step W can begin.',\n",
       " 'Step V must be finished before step B can begin.',\n",
       " 'Step P must be finished before step Y can begin.']"
      ]
     },
     "execution_count": 26,
     "metadata": {},
     "output_type": "execute_result"
    }
   ],
   "source": [
    "input_d07 = read_input('07')\n",
    "\n",
    "input_d07[:5]"
   ]
  },
  {
   "cell_type": "markdown",
   "metadata": {},
   "source": [
    "First we start by parsing the input and saving all the edges and the order (number of incoming vertices) of each vertex. Due to one important requirement in our puzzle (\"If more than one step is ready, choose the step which is first alphabetically\" we cannot really use the queue FIFO mechanism so I will use a list to store the vertices with no incoming edge.\n",
    "\n",
    "The algorithm is very simple:\n",
    "    \n",
    "    (1) At the start select all the the vertices with order 0 and add them into a <s>queue</s> list.\n",
    "    (2) Sort the list in alphabetical order\n",
    "    (3) Remove the first vertex from the <s>queue</s> list and then:\n",
    "       Decrease the order by 1 for all its neighboring vertices.\n",
    "       If the order of a neighboring vertice becomes zero add it to the <s>queue</s> list. \n",
    "       Sort the newly updated list of vertices with order 0\n",
    "\n",
    "    Step 3 is repeated until the <s>queue</s> list is empty.\n"
   ]
  },
  {
   "cell_type": "code",
   "execution_count": 27,
   "metadata": {},
   "outputs": [
    {
     "data": {
      "text/plain": [
       "'SCLPAMQVUWNHODRTGYKBJEFXZI'"
      ]
     },
     "execution_count": 27,
     "metadata": {},
     "output_type": "execute_result"
    }
   ],
   "source": [
    "def d07_p1(instructions):\n",
    "    in_order = defaultdict(int)\n",
    "    edges = defaultdict(list)\n",
    "    \n",
    "    for i in instructions:\n",
    "        match = re.match(r'Step (.) must be finished before step (.) can begin.', i)\n",
    "        edges[match.group(1)].append(match.group(2))\n",
    "        in_order[match.group(2)] += 1\n",
    "        \n",
    "    zero_order = []\n",
    "    for e in sorted([k for k in edges.keys() if in_order[k] == 0]):\n",
    "        zero_order.append(e)\n",
    "\n",
    "    ans = []\n",
    "    while zero_order:\n",
    "        v = zero_order.pop(0)\n",
    "        ans += v\n",
    "        for n in edges[v]:\n",
    "            in_order[n] -= 1\n",
    "            if in_order[n] == 0:\n",
    "                zero_order.append(n)\n",
    "        zero_order.sort()\n",
    "\n",
    "    return ''.join(ans)\n",
    "\n",
    "d07_p1(input_d07)"
   ]
  },
  {
   "cell_type": "markdown",
   "metadata": {},
   "source": [
    "#### Part Two\n",
    "\n",
    "Each step takes 60 seconds plus an amount corresponding to its letter: A=1, B=2, C=3, and so on. So, step A takes 60+1=61 seconds, while step Z takes 60+26=86 seconds. No time is required between steps. Considering that multiple workers can work on steps simultaneously and that if multiple steps are available, workers should still begin them in alphabetical order.\n",
    "\n",
    ">With 5 workers and the 60+ second step durations described above, how long will it take to complete all of the steps?"
   ]
  },
  {
   "cell_type": "code",
   "execution_count": 28,
   "metadata": {},
   "outputs": [
    {
     "data": {
      "text/plain": [
       "1234"
      ]
     },
     "execution_count": 28,
     "metadata": {},
     "output_type": "execute_result"
    }
   ],
   "source": [
    "def step_duration(step):\n",
    "    return 60 + ord(step) - ord('A') + 1\n",
    "\n",
    "def d07_p2(instructions, workers=5):\n",
    "    in_order = defaultdict(int)\n",
    "    edges = defaultdict(list)\n",
    "    \n",
    "    for i in instructions:\n",
    "        match = re.match(r'Step (.) must be finished before step (.) can '\n",
    "                 'begin.', i)\n",
    "        edges[match.group(1)].append(match.group(2))\n",
    "        in_order[match.group(2)] += 1\n",
    "        \n",
    "    ready_steps = []\n",
    "    for e in sorted([k for k in edges.keys() if in_order[k] == 0]):\n",
    "        ready_steps.append((e, step_duration(e)))\n",
    "\n",
    "    #tuple (step, end_time)\n",
    "    in_progress = []\n",
    "    \n",
    "    for seconds_elapsed in count():\n",
    "        #steps that ended in this iteration                                           \n",
    "        ended = [s[0] for s in in_progress if s[1] == seconds_elapsed]\n",
    "        for e in ended:\n",
    "            workers += 1\n",
    "            for n in edges[e]:\n",
    "                in_order[n] -= 1\n",
    "                #we can release the steps that were dependent on only this step\n",
    "                if in_order[n] == 0:\n",
    "                    ready_steps.append((n, seconds_elapsed + step_duration(n)))\n",
    "\n",
    "                ready_steps.sort(key = lambda t : t[1])\n",
    "\n",
    "        #remove the steps that ended in this iteration\n",
    "        in_progress = [step for step in in_progress if step[1] >\n",
    "                seconds_elapsed]\n",
    "                                               \n",
    "        while workers and ready_steps:\n",
    "            v = ready_steps.pop(0)\n",
    "            workers -= 1\n",
    "            in_progress.append((v[0], v[1]))\n",
    "            \n",
    "        if not ready_steps and not in_progress:\n",
    "            return seconds_elapsed \n",
    "\n",
    "\n",
    "d07_p2(input_d07)"
   ]
  },
  {
   "cell_type": "markdown",
   "metadata": {},
   "source": [
    "### [Day 8: Memory Maneuver](https://adventofcode.com/2018/day/8)\n",
    "\n",
    "The sleigh is going nowhere if we cannot activate its navigation system. In order to do so we need to calculate a license number. \n",
    "\n",
    "The puzzle input is the navigation system's license file. It consists of a list of numbers that, when processed, produces a tree that can be used to calculate the license number. The tree is made up of nodes; a single, outermost node forms the tree's root, and it contains all other nodes in the tree (or contains nodes that contain nodes, and so on).\n",
    "\n",
    "Specifically, a node consists of:\n",
    "\n",
    "    A header, which is always exactly two numbers:\n",
    "        The quantity of child nodes.\n",
    "        The quantity of metadata entries.\n",
    "    Zero or more child nodes (as specified in the header).\n",
    "    One or more metadata entries (as specified in the header).\n",
    "\n",
    "Each child node is itself a node that has its own header, child nodes, and metadata.\n",
    "\n",
    "I'll use a [named tuple](https://docs.python.org/3.7/library/collections.html#collections.namedtuple) to define the tree structure. The parsing of the nodes and metadata can be easily done using a recursive function.\n",
    "\n",
    "#### Part One\n",
    "\n",
    ">What is the sum of all metadata entries?"
   ]
  },
  {
   "cell_type": "code",
   "execution_count": 29,
   "metadata": {},
   "outputs": [
    {
     "data": {
      "text/plain": [
       "'9 11 7 3 4'"
      ]
     },
     "execution_count": 29,
     "metadata": {},
     "output_type": "execute_result"
    }
   ],
   "source": [
    "input_d08 = read_line('08')\n",
    "\n",
    "input_d08[:10]"
   ]
  },
  {
   "cell_type": "code",
   "execution_count": 30,
   "metadata": {},
   "outputs": [
    {
     "data": {
      "text/plain": [
       "47112"
      ]
     },
     "execution_count": 30,
     "metadata": {},
     "output_type": "execute_result"
    }
   ],
   "source": [
    "Tree = namedtuple('Tree', ['children', 'metadata'])\n",
    "\n",
    "def build_tree(tree_data):\n",
    "    child_nodes, metadata_entries = tree_data.pop(0), tree_data.pop(0)\n",
    "    \n",
    "    return Tree([build_tree(tree_data) for _ in range(child_nodes)], \n",
    "                [tree_data.pop(0) for _ in range(metadata_entries)])\n",
    "\n",
    "#tree_nums = [0, 3, 1, 1, 1]\n",
    "#print(build_tree(tree_nums))\n",
    "#tree_nums = [1, 3, 0, 1, 1, 1, 1, 1]\n",
    "#print(build_tree(tree_nums))\n",
    "\n",
    "def sum_metadata(tree):\n",
    "    #return sum(tree.metadata) + sum(map(sum_metadata, tree.children))\n",
    "    return sum(tree.metadata) + sum(sum_metadata(child) for child in tree.children)\n",
    "    \n",
    "def d08_p1(license_file):\n",
    "    root = build_tree(license_file)\n",
    "    \n",
    "    return sum_metadata(root)\n",
    "\n",
    "license_file = [int(i) for i in re.findall(r'\\d+', input_d08)]\n",
    "d08_p1(license_file)"
   ]
  },
  {
   "cell_type": "markdown",
   "metadata": {},
   "source": [
    "#### Part Two\n",
    "\n",
    "> What is the value of the root node?\n",
    "\n",
    "The value of a node depends on whether it has child nodes.\n",
    "\n",
    "    If a node has no child nodes, its value is the sum of its metadata entries.\n",
    "    If a node does have child nodes, its value is the sum of the values of the child nodes referenced by the metadata entries."
   ]
  },
  {
   "cell_type": "code",
   "execution_count": 31,
   "metadata": {},
   "outputs": [],
   "source": [
    "def node_value(node):\n",
    "    if not node.children:\n",
    "        return sum(node.metadata)\n",
    "    else:\n",
    "        return sum(node_value(node.children[i - 1]) for i in node.metadata if i > 0 and i <= len(node.children))   \n",
    "    \n",
    "#a = build_tree([2, 3, 0, 3, 10, 11, 12, 1, 1, 0, 1, 99, 2, 1, 1, 2])\n",
    "#b = build_tree([0, 3, 10, 11, 12])\n",
    "#c = build_tree([1, 1, 0, 1, 99, 2])\n",
    "#d = build_tree([0, 1, 99])\n",
    "#print(node_value(a))\n",
    "#print(node_value(b))\n",
    "#print(node_value(c))\n",
    "#print(node_value(d))    "
   ]
  },
  {
   "cell_type": "code",
   "execution_count": 32,
   "metadata": {},
   "outputs": [
    {
     "data": {
      "text/plain": [
       "28237"
      ]
     },
     "execution_count": 32,
     "metadata": {},
     "output_type": "execute_result"
    }
   ],
   "source": [
    "def d08_p2(license_file):\n",
    "    root = build_tree(license_file)\n",
    "    \n",
    "    return node_value(root)\n",
    "\n",
    "license_file = [int(i) for i in re.findall(r'\\d+', input_d08)]\n",
    "d08_p2(license_file)"
   ]
  },
  {
   "cell_type": "markdown",
   "metadata": {},
   "source": [
    "### [Day 9: Marble Mania](https://adventofcode.com/2018/day/9)\n",
    "\n",
    "And on the 9th day they chilled out... While waiting for the navigation system to initialize the elfs introduce us to their favorite marble game. \n",
    "\n",
    "Given a set of marbles numbered starting from 0 and increasing by 1, the rules of the game are as follows:\n",
    "        \n",
    "The game starts by placing the marble numbered 0 in the circle. This marble is designated the **current marble**. Then, each Elf takes a turn placing the lowest-numbered remaining marble until no marble is left:\n",
    "\n",
    "       - If the marble about to be placed is a multiple of 23 then it is placed in the circle between the marbles \n",
    "       that are 1 and 2 marbles clockwise of the current marble and it becomes the new current marble.\n",
    "       - If the marble is not a multiple of 23, first, the current player keeps the marble they would have placed, adding \n",
    "       it to their score. In addition, the marble 7 marbles counter-clockwise from the current marble is removed from \n",
    "       the circle and also added to the current player's score. The marble located immediately clockwise of the marble \n",
    "       that was removed becomes the new current marble.\n",
    "    \n",
    "The goal of the game is to be the player with the highest score after the last marble is used up.\n",
    "\n",
    "#### Part One\n",
    "\n",
    ">What is the winning Elf's score?\n",
    "\n",
    "I use a deque to represent the circle, rotating whenever there is a change in the current marble. The **current marble** is always the element at the head of the deque."
   ]
  },
  {
   "cell_type": "code",
   "execution_count": 33,
   "metadata": {},
   "outputs": [
    {
     "data": {
      "text/plain": [
       "374287"
      ]
     },
     "execution_count": 33,
     "metadata": {},
     "output_type": "execute_result"
    }
   ],
   "source": [
    "input_d09 = read_line('09')\n",
    "\n",
    "def d09_p1(num_players, last_marble):\n",
    "    circle = deque([0]) #Place the marble 0 in the circle\n",
    "    current_player = 1\n",
    "    scores = defaultdict(int) #scores[current_player] += marble\n",
    "    \n",
    "    for marble in range(1, last_marble+1):\n",
    "        if marble % 23 == 0:\n",
    "            scores[current_player] += marble\n",
    "            circle.rotate(7)\n",
    "            scores[current_player] += circle.popleft()\n",
    "        else:\n",
    "            circle.rotate(-2)\n",
    "            circle.appendleft(marble)\n",
    "        \n",
    "        current_player = marble % num_players\n",
    "        \n",
    "    return max(scores.values())\n",
    "    \n",
    "num_players, last_marble = [int(i) for i in re.findall(r'\\d+', input_d09)]\n",
    "d09_p1(num_players, last_marble)"
   ]
  },
  {
   "cell_type": "markdown",
   "metadata": {},
   "source": [
    "#### Part Two\n",
    "\n",
    ">What would the new winning Elf's score be if the number of the last marble were 100 times larger?"
   ]
  },
  {
   "cell_type": "code",
   "execution_count": 34,
   "metadata": {},
   "outputs": [
    {
     "data": {
      "text/plain": [
       "3083412635"
      ]
     },
     "execution_count": 34,
     "metadata": {},
     "output_type": "execute_result"
    }
   ],
   "source": [
    "last_marble = 71010 * 100\n",
    "d09_p1(num_players, last_marble)"
   ]
  },
  {
   "cell_type": "markdown",
   "metadata": {},
   "source": [
    "### [Day 10: The Stars Align](https://adventofcode.com/2018/day/10)\n",
    "\n",
    "As the navigation system proves incapable of providing directions in the artic circle conditions, the Elves suggest an alternative system. Rescue operations will sometimes arrange points of light in the sky to guide the missing Elves back to base. The points move slowly in the sky until they align and display a message. The points move slowly enough that it takes hours to align them, but have so much momentum that they only stay aligned for a second.\n",
    "\n",
    "Our puzzle input is a set of coordinates and their velocity (position change per second), representing the lights in the sky. Given enough time, those positions and velocities will move the points into a cohesive message!\n",
    "\n",
    "#### Part One\n",
    "\n",
    "> What message will eventually appear in the sky?\n",
    "\n",
    "Looking at the example provided, I assumed that the lights are initially spread out across the sky and as the time passes they will slowly align and converge to a section of the sky. This means that the size of the area/box containing all the lights will decrease over time (until a certain point in time when the lights will start to spread out again). The message will be displayed when the size of this area is the (local?) minimum.\n",
    "\n",
    "I'll just simulate the passage of time, and for every second calculate the area of the \"box\" that contains all the lights. When the area starts to increase, the execution stops and I'll try to read the message."
   ]
  },
  {
   "cell_type": "code",
   "execution_count": 35,
   "metadata": {},
   "outputs": [
    {
     "name": "stdout",
     "output_type": "stream",
     "text": [
      "................................................................\n",
      ".######....##....######..######..#####...#.......######...####..\n",
      "......#...#..#...#............#..#....#..#............#..#....#.\n",
      "......#..#....#..#............#..#....#..#............#..#......\n",
      ".....#...#....#..#...........#...#....#..#...........#...#......\n",
      "....#....#....#..#####......#....#####...#..........#....#......\n",
      "...#.....######..#.........#.....#..#....#.........#.....#..###.\n",
      "..#......#....#..#........#......#...#...#........#......#....#.\n",
      ".#.......#....#..#.......#.......#...#...#.......#.......#....#.\n",
      ".#.......#....#..#.......#.......#....#..#.......#.......#...##.\n",
      ".######..#....#..######..######..#....#..######..######...###.#.\n",
      "................................................................\n"
     ]
    },
    {
     "data": {
      "text/plain": [
       "10105"
      ]
     },
     "execution_count": 35,
     "metadata": {},
     "output_type": "execute_result"
    }
   ],
   "source": [
    "input_d10 = read_input('10')\n",
    "\n",
    "#input_d10[:10]\n",
    "\n",
    "Light = namedtuple('Light', ['x', 'y', 'vx', 'vy'])\n",
    "\n",
    "def show_sky(lights):\n",
    "    min_x = min(l.x for l in lights)\n",
    "    max_x = max(l.x for l in lights)\n",
    "    min_y = min(l.y for l in lights)\n",
    "    max_y = max(l.y for l in lights)\n",
    "    \n",
    "    for y in range(min_y - 1, max_y + 2):\n",
    "        r = []\n",
    "        for x in range(min_x - 1, max_x + 2):\n",
    "            if (x, y) in [(l.x, l.y) for l in lights]:\n",
    "                r.append('#')\n",
    "            else:\n",
    "                r.append('.')\n",
    "        print(''.join(r))\n",
    "\n",
    "def d10_p1(lights):\n",
    "    sky = []\n",
    "    for l in lights:\n",
    "        x, y, vx, vy = [int(i) for i in re.findall(r'-?\\d+', l)]\n",
    "        sky.append(Light(x, y, vx, vy))\n",
    "        \n",
    "    min_area = float('inf')\n",
    "    for s in count(0):\n",
    "        min_x = min(l.x + s * l.vx for l in sky)\n",
    "        max_x = max(l.x + s * l.vx for l in sky)\n",
    "        min_y = min(l.y + s * l.vy for l in sky)\n",
    "        max_y = max(l.y + s * l.vy for l in sky)\n",
    "        \n",
    "        area = (max_x - min_x) * (max_y - min_y)\n",
    "        \n",
    "        if min_area < area:\n",
    "            message = [Light(l.x + (s - 1) * l.vx, l.y + (s - 1) * l.vy, _, _) for l in sky]\n",
    "            show_sky(message)\n",
    "            return s - 1\n",
    "        else:\n",
    "            min_area = area\n",
    "        \n",
    "d10_p1(input_d10)"
   ]
  },
  {
   "cell_type": "markdown",
   "metadata": {},
   "source": [
    "The message reads \"ZAEZRLZG\" and it was displayed 10105 seconds after the initial position of the lights in the sky.\n",
    "\n",
    "(I'll try later on to write some code to do the OCR)\n",
    "\n",
    "#### Part Two\n",
    "\n",
    ">Exactly how many seconds would they have needed to wait for that message to appear?\n",
    "\n",
    "Our function above already provides the answer (10105) for part two.\n",
    "\n",
    "### [Day 11: Chronal Charge](https://adventofcode.com/2018/day/11)\n",
    "\n",
    "In day 11 we go continue our journey through time when we are faced with a low fuel warning. The interface on our wrist-mounted device shows a 300x300 grid with fuel cells and their current power levels and allows us to pick one 3x3 square of fuel cells. To increase our chances of getting to our destination, we must choose the square with the largest total power. \n",
    "\n",
    "The power level in a given fuel cell can be found through the following process:\n",
    "\n",
    "    Find the fuel cell's rack ID, which is its X coordinate plus 10.\n",
    "    Begin with a power level of the rack ID times the Y coordinate.\n",
    "    Increase the power level by the value of the grid serial number (your puzzle input).\n",
    "    Set the power level to itself multiplied by the rack ID.\n",
    "    Keep only the hundreds digit of the power level (so 12345 becomes 3; numbers with no hundreds digit become 0).\n",
    "    Subtract 5 from the power level.\n",
    "    \n",
    "#### Part One\n",
    "\n",
    ">What is the X,Y coordinate of the top-left fuel cell of the 3x3 square with the largest total power?\n",
    "\n",
    "Using a [summed-area table](https://en.wikipedia.org/wiki/Summed-area_table) we should be able to quickly and efficiently generate the sum of values in 3x3 square subsets of the fuel cell grid. Then it is just a question of identifying the square with the highest power level."
   ]
  },
  {
   "cell_type": "code",
   "execution_count": 36,
   "metadata": {},
   "outputs": [
    {
     "data": {
      "text/plain": [
       "(31, (20, 51))"
      ]
     },
     "execution_count": 36,
     "metadata": {},
     "output_type": "execute_result"
    }
   ],
   "source": [
    "def power_level(x, y, serial_number):\n",
    "    rack_id = x + 10\n",
    "    power_level = (rack_id * y + serial_number) * rack_id\n",
    "    return ((power_level // 100) % 10) - 5\n",
    "\n",
    "def summed_area_table(dimension, serial_num):\n",
    "    '''https://en.wikipedia.org/wiki/Summed-area_table#The_algorithm'''\n",
    "    I = defaultdict(int)\n",
    "    for x, y in product(range(1, dimension+1), range(1, dimension+1)):\n",
    "        I[x, y] = power_level(x, y, serial_num) + I[x, y-1] + I[x-1, y] - I[x-1, y-1]\n",
    "\n",
    "    return I\n",
    "\n",
    "def square_power(grid, x, y, size):\n",
    "    '''returns the sum of the cells in the square with top left corner (x,y)\n",
    "    and width/height equal to size\n",
    "    https://en.wikipedia.org/wiki/Summed-area_table#The_algorithm'''\n",
    "    x0, y0, x1, y1 = x - 1, y - 1, x + size - 1, y + size - 1\n",
    "    return grid[x0, y0] + grid[x1, y1] - grid[x1, y0] - grid[x0, y1]\n",
    "\n",
    "def d11_p1(dimension=300, size=3, serial_number=7803):\n",
    "    I = summed_area_table(dimension, serial_number)\n",
    "\n",
    "    max_power = -1e9 \n",
    "    coords = (1, 1)\n",
    "    for x, y in product(range(1, dimension+1-size), range(1, dimension+1-size)):\n",
    "        power = square_power(I, x, y, size)\n",
    "        if power > max_power:\n",
    "            max_power = power\n",
    "            coords = (x, y)\n",
    "\n",
    "    return max_power, coords\n",
    "\n",
    "d11_p1()"
   ]
  },
  {
   "cell_type": "markdown",
   "metadata": {},
   "source": [
    "#### Part Two\n",
    "\n",
    ">What is the X,Y,size identifier of the square with the largest total power?\n",
    "\n",
    "We can use the function defined in part one, and execute it with different square sizes in the range \\[1..300\\] to find the size of the square with the largest total power. We just need to modify it function so that it also outputs the square size."
   ]
  },
  {
   "cell_type": "code",
   "execution_count": 37,
   "metadata": {},
   "outputs": [
    {
     "data": {
      "text/plain": [
       "(125, (230, 272), 17)"
      ]
     },
     "execution_count": 37,
     "metadata": {},
     "output_type": "execute_result"
    }
   ],
   "source": [
    "def d11_p2(dimension=300, size=3, serial_number=7803):\n",
    "    I = summed_area_table(dimension, serial_number)\n",
    "\n",
    "    max_power = -1e9 \n",
    "    coords = (1, 1)\n",
    "    for x, y in product(range(1, dimension+1-size), range(1, dimension+1-size)):\n",
    "        power = square_power(I, x, y, size)\n",
    "        if power > max_power:\n",
    "            max_power = power\n",
    "            coords = (x, y)\n",
    "\n",
    "    return max_power, coords, size\n",
    "\n",
    "max((d11_p2(300, size, 7803) for size in range(1, 301)), key = lambda f: f[0])"
   ]
  },
  {
   "cell_type": "markdown",
   "metadata": {},
   "source": [
    "### [Day 12: Subterranean Sustainability](https://adventofcode.com/2018/day/12)\n",
    "\n",
    "We arrived in a vast cavern network under the North Pole and face a long tunnel that contains a row of small pots as far as we can see to the left and right. A few of them contain plants.\n",
    "\n",
    "Our puzzle input contains a list of pots from 0 to the right and whether they do (#) or do not (.) currently contain a plant, the initial state.\n",
    "\n",
    "It contains also the notes detailing how these plants spread to nearby pots. For each generation of plants, a given pot has or does not have a plant based on whether that pot (and the two pots on either side of it) had a plant in the last generation.\n",
    "\n",
    "These are written as LLCRR => N, where L are pots to the left, C is the current pot being considered, R are the pots to the right, and N is whether the current pot will have a plant in the next generation.\n",
    "\n",
    "The pots represent a cellular automata, in this case, a particular case of the [Elementary Cellular Automaton](https://en.wikipedia.org/wiki/Elementary_cellular_automaton).\n",
    "\n",
    ">In mathematics and computability theory, an elementary cellular automaton is a one-dimensional cellular automaton where there are two possible states (labeled 0 and 1) and the rule to determine the state of a cell in the next generation depends only on the current state of the cell and its two immediate neighbors. \n",
    "\n",
    "\n",
    "#### Part One\n",
    "\n",
    ">After 20 generations, what is the sum of the numbers of all pots which contain a plant?\n",
    "\n",
    "\n",
    "To solve part one, because the number of generations is very small, we can just run the simulation. One important aspect that we have to consider is that, though the puzzle input only provides the initial status of the pots from 0 to the right, there are an infinite number of pots to the left as well, and therefore the plants can show up also to the left of 0 (depending on the rules)."
   ]
  },
  {
   "cell_type": "code",
   "execution_count": 38,
   "metadata": {},
   "outputs": [
    {
     "data": {
      "text/plain": [
       "3248"
      ]
     },
     "execution_count": 38,
     "metadata": {},
     "output_type": "execute_result"
    }
   ],
   "source": [
    "input_d12 = read_input('12')\n",
    "\n",
    "def next_generation(state, rules, zero_idx):\n",
    "    state = list('...' + ''.join(state) + '...')\n",
    "    zero_idx += 3\n",
    "    new_state = state[:]\n",
    "    for p in range(2, len(state)-2):\n",
    "        r = ''.join(state[p-2:p+3])\n",
    "        new_state[p] = rules[r]\n",
    "        \n",
    "    while new_state[0] == '.':\n",
    "        zero_idx -= 1\n",
    "        new_state = new_state[1:]\n",
    "    while new_state[-1] == '.':\n",
    "        new_state = new_state[:-1]\n",
    "                \n",
    "    return new_state, zero_idx\n",
    "\n",
    "def d12_p1(_input):\n",
    "    state = _input[0][len('initial state: '):]\n",
    "\n",
    "    rules = defaultdict(lambda : \".\")\n",
    "    for rule in _input[2:]:\n",
    "        r, result = rule.split(' => ')\n",
    "        rules[r] = result\n",
    "\n",
    "    zero_idx = 0\n",
    "    for _ in range(20):\n",
    "        state, zero_idx = next_generation(state, rules, zero_idx)\n",
    "\n",
    "    return sum(i-zero_idx for i,p in enumerate(state) if p == '#')\n",
    "\n",
    "d12_p1(input_d12)   "
   ]
  },
  {
   "cell_type": "markdown",
   "metadata": {},
   "source": [
    "#### Part Two\n",
    "\n",
    ">After fifty billion (50000000000) generations, what is the sum of the numbers of all pots which contain a plant?\n",
    "\n",
    "We cannot really run simulate the 50 billion generations, but we can simulate the first 150 generations and try to identify a pattern."
   ]
  },
  {
   "cell_type": "code",
   "execution_count": 39,
   "metadata": {},
   "outputs": [
    {
     "data": {
      "image/png": "[encoded data removed]",
      "text/plain": [
       "<Figure size 432x288 with 1 Axes>"
      ]
     },
     "metadata": {
      "needs_background": "light"
     },
     "output_type": "display_data"
    }
   ],
   "source": [
    "def d12_p2(_input):\n",
    "    state = _input[0][len('initial state: '):]\n",
    "\n",
    "    rules = defaultdict()\n",
    "    for rule in _input[2:]:\n",
    "        r, result = rule.split(' => ')\n",
    "        rules[r] = result\n",
    "\n",
    "    zero_idx = 0\n",
    "    totals = []\n",
    "    for i in range(150):\n",
    "        state, zero_idx = next_generation(state, rules, zero_idx)\n",
    "        totals.append(sum(i-zero_idx for i,p in enumerate(state) if p == '#'))\n",
    "    \n",
    "    plt.xlim([1,160])\n",
    "    plt.plot(totals)    \n",
    "    plt.plot([totals[n] - totals[n-1] for n in range(1, len(totals))])\n",
    "    plt.legend(['Sum # of all pots which contain a plant', 'Difference to previous year'], loc='upper left')\n",
    "    plt.show()\n",
    "    \n",
    "d12_p2(input_d12)        "
   ]
  },
  {
   "cell_type": "markdown",
   "metadata": {},
   "source": [
    "As we can see from the figure above, the sum of the number of all the pots that contain a plant increases linearly over the years. After the 100 generation, the increase is constant and is equal to 80. So I took (50e9 - 150) * 80 and added that to the output of the first 150 iterations (12000) to get the answer.\n"
   ]
  },
  {
   "cell_type": "code",
   "execution_count": 40,
   "metadata": {},
   "outputs": [
    {
     "data": {
      "text/plain": [
       "4000000000000"
      ]
     },
     "execution_count": 40,
     "metadata": {},
     "output_type": "execute_result"
    }
   ],
   "source": [
    "int((50e9 - 150) * 80 + 12000)"
   ]
  },
  {
   "cell_type": "markdown",
   "metadata": {},
   "source": [
    "### [Day 13: Mine Cart Madness](https://adventofcode.com/2018/day/13)\n",
    "\n",
    "A crop of this size requires significant logistics to transport produce, soil, fertilizer, and so on. The Elves are very busy pushing things around in carts on some kind of rudimentary system of tracks they've come up with. One problem the Elves are facing is how to avoid collisions between the carts.\n",
    "\n",
    "After following their respective paths for a while, the carts eventually crash. To help prevent crashes, we'd like to know the location of these crashes.\n",
    "\n",
    "Our puzzle input is a map of the tracks. Here is an example:\n",
    "\n",
    "    /->-\\        \n",
    "    |   |  /----\\\n",
    "    | /-+--+-\\  |\n",
    "    | | |  | v  |\n",
    "    \\-+-/  \\-+--/\n",
    "     \\------/   \n",
    "\n",
    "#### Part One\n",
    "\n",
    ">What is the location of the first crash?\n",
    "\n",
    "This looks like a fun simulation problem. Let's start by defining a class to represent the cart and its status as well as some lookup tables to help compute the direction and position of the carts after each tick."
   ]
  },
  {
   "cell_type": "code",
   "execution_count": 41,
   "metadata": {},
   "outputs": [],
   "source": [
    "class Cart:\n",
    "    def __init__(self, p, d):\n",
    "        self.position = p\n",
    "        self.direction = d\n",
    "        self.next_turn = 0 #0 -> Left, 1 -> Straight, 2 -> Right\n",
    "        self.crashed = False\n",
    "        \n",
    "    def tick_update(self, tracks):\n",
    "        #take one step in the current direction\n",
    "        self.position = (self.position[0] + self.direction[0], \n",
    "                         self.position[1] + self.direction[1])\n",
    "\n",
    "        #retrieve the new position on the tracks\n",
    "        part = tracks[self.position]\n",
    "\n",
    "        # calculate the new cart direction based on the location on the track, \n",
    "        # current direction and last turn\n",
    "        if part in '\\\\/|-': #turn left or right depending on current direction\n",
    "            self.direction = new_direction[(self.direction, part, '')]\n",
    "\n",
    "        elif part == '+':  #intersection: new direction depends on last turn\n",
    "            self.direction = new_direction[self.direction, part, self.next_turn]\n",
    "            self.next_turn = (self.next_turn + 1) % 3\n",
    "\n",
    "    def crash(self, other):\n",
    "        return self != other and self.position == other.position      "
   ]
  },
  {
   "cell_type": "markdown",
   "metadata": {},
   "source": [
    "I decided to represent the tracks as a dictionary with keys corresponding to the coordinates (x, y) where (0, 0) is the topleft corner. The cart's velocity is constant and corresponds to one step per tick. Moving a cart UP, DOWN, LEFT and RIGHT, corresponds to the subtracting/adding 1 the current (x, y) coordinates"
   ]
  },
  {
   "cell_type": "code",
   "execution_count": 42,
   "metadata": {},
   "outputs": [],
   "source": [
    "UP, DOWN, LEFT, RIGHT = (0, -1), (0, 1), (-1, 0), (1, 0)  \n",
    "\n",
    "# map text input and cart directions\n",
    "directions = {'^': UP, 'v': DOWN, '<': LEFT, '>': RIGHT}\n",
    "\n",
    "# lookup table to help computing the new cart direction based on its \n",
    "# current direction, location on the track and the its next turn direction\n",
    "\n",
    "#(current_dir, 'track_location', 'next_turn') #Next_turn = {0: Left, 1: Straight, 2: Right}\n",
    "new_direction = {\n",
    "        \n",
    "        (UP, '|',  ''): UP,\n",
    "        (UP, '\\\\', ''): LEFT,\n",
    "        (UP, '/',  ''): RIGHT,\n",
    "        (UP, '+',  0): LEFT, #when facing an intersection, the cart's direction depends on its next turn\n",
    "        (UP, '+',  1): UP,\n",
    "        (UP, '+',  2): RIGHT,\n",
    "        \n",
    "        (LEFT, '-',  ''): LEFT,\n",
    "        (LEFT, '\\\\', ''): UP,\n",
    "        (LEFT, '/',  ''): DOWN,\n",
    "        (LEFT, '+',  0): DOWN,\n",
    "        (LEFT, '+',  1): LEFT,\n",
    "        (LEFT, '+',  2): UP,\n",
    "\n",
    "        (RIGHT, '-',  ''): RIGHT,\n",
    "        (RIGHT, '\\\\', ''): DOWN,\n",
    "        (RIGHT, '/',  ''): UP,\n",
    "        (RIGHT, '+',  0): UP,\n",
    "        (RIGHT, '+',  1): RIGHT,\n",
    "        (RIGHT, '+',  2): DOWN,\n",
    "\n",
    "        (DOWN, '|',  ''): DOWN,\n",
    "        (DOWN, '\\\\', ''): RIGHT,\n",
    "        (DOWN, '/',  ''): LEFT,\n",
    "        (DOWN, '+',  0): RIGHT,\n",
    "        (DOWN, '+',  1): DOWN,\n",
    "        (DOWN, '+',  2): LEFT\n",
    "        }"
   ]
  },
  {
   "cell_type": "markdown",
   "metadata": {},
   "source": [
    "Let's parse the input and create a helper function to display the tracks."
   ]
  },
  {
   "cell_type": "code",
   "execution_count": 43,
   "metadata": {},
   "outputs": [],
   "source": [
    "def setup(initial_state):\n",
    "    tracks = defaultdict(lambda : \"\")\n",
    "    carts = []\n",
    "    for y, line in enumerate(initial_state):\n",
    "        for x, p in enumerate(line):\n",
    "            if p in '^v<>':\n",
    "                carts.append(Cart((x, y), directions[p]))\n",
    "                #if its a cart, decode what is the piece of track underneath it based on the cart direction\n",
    "                tracks[(x, y)] = {'<': '-', '>': '-', '^': '|', 'v': '|'}[p]\n",
    "            else:\n",
    "                tracks[(x, y)] = p\n",
    "\n",
    "    return carts, tracks\n",
    "\n",
    "def show_track(tracks, carts):\n",
    "    (mx, my) = max((k[0], k[1]) for k in tracks.keys())\n",
    "    for y in range(my + 1):\n",
    "        r = \"\"\n",
    "        for x in range(mx + 1):\n",
    "            if (x, y) in [c.position for c in carts]:\n",
    "                r = r + \"X\"\n",
    "            else:\n",
    "                r = r + tracks[(x, y)]\n",
    "        print(r)"
   ]
  },
  {
   "cell_type": "markdown",
   "metadata": {},
   "source": [
    "Now we just need to simulate the movement of the carts on the tracks by updating their positions after each tick. "
   ]
  },
  {
   "cell_type": "code",
   "execution_count": 44,
   "metadata": {},
   "outputs": [],
   "source": [
    "def d13_p1(file_input, show=False):\n",
    "    carts, tracks = setup(file_input)\n",
    "\n",
    "    while True:\n",
    "        #ensure that we move the carts in the correct order from top to bottom, left to right\n",
    "        for c in sorted(carts, key=lambda x: (x.position[1], x.position[0])):\n",
    "            c.tick_update(tracks)\n",
    "\n",
    "            for other in carts:\n",
    "                if c.crash(other):\n",
    "                    c.crashed = other.crashed = True\n",
    "                    if show:\n",
    "                        show_track(tracks, carts)\n",
    "                    return c.position\n",
    "             "
   ]
  },
  {
   "cell_type": "markdown",
   "metadata": {},
   "source": [
    "Giving it a try with the test input"
   ]
  },
  {
   "cell_type": "code",
   "execution_count": 45,
   "metadata": {},
   "outputs": [
    {
     "name": "stdout",
     "output_type": "stream",
     "text": [
      "/---\\        \n",
      "|   |  /----\\\n",
      "| /-+--+-\\  |\n",
      "| | |  X |  |\n",
      "\\-+-/  \\-+--/\n"
     ]
    },
    {
     "data": {
      "text/plain": [
       "(7, 3)"
      ]
     },
     "execution_count": 45,
     "metadata": {},
     "output_type": "execute_result"
    }
   ],
   "source": [
    "example_d13 = r'''\n",
    "/->-\\        \n",
    "|   |  /----\\\n",
    "| /-+--+-\\  |\n",
    "| | |  | v  |\n",
    "\\-+-/  \\-+--/\n",
    "  \\------/      \n",
    "'''.strip().splitlines() \n",
    "\n",
    "d13_p1(example_d13, True)"
   ]
  },
  {
   "cell_type": "markdown",
   "metadata": {},
   "source": [
    "Now with the real input"
   ]
  },
  {
   "cell_type": "code",
   "execution_count": 46,
   "metadata": {},
   "outputs": [
    {
     "data": {
      "text/plain": [
       "(116, 10)"
      ]
     },
     "execution_count": 46,
     "metadata": {},
     "output_type": "execute_result"
    }
   ],
   "source": [
    "input_d13 = read_input('13') \n",
    "\n",
    "d13_p1(input_d13)"
   ]
  },
  {
   "cell_type": "markdown",
   "metadata": {},
   "source": [
    "That gives a star for part one.\n",
    "\n",
    "#### Part Two\n",
    "\n",
    ">What is the location of the last cart at the end of the first tick where it is the only cart left?"
   ]
  },
  {
   "cell_type": "code",
   "execution_count": 47,
   "metadata": {},
   "outputs": [
    {
     "data": {
      "text/plain": [
       "(116, 25)"
      ]
     },
     "execution_count": 47,
     "metadata": {},
     "output_type": "execute_result"
    }
   ],
   "source": [
    "def d13_p2(file_input):\n",
    "    carts, tracks = setup(file_input)\n",
    "\n",
    "    while True:\n",
    "        #ensure that we move the carts in the correct order from top to bottom, left to right\n",
    "        for c in sorted(carts, key=lambda x: (x.position[1], x.position[0])):\n",
    "            c.tick_update(tracks)\n",
    "\n",
    "            for other in carts:\n",
    "                if c.crash(other):\n",
    "                    #set the carts as crashed so that both are removed from the tracks\n",
    "                    c.crashed = other.crashed = True\n",
    "        \n",
    "        #remove all the carts that have crashed in this tick\n",
    "        carts = [x for x in carts if x.crashed == False]\n",
    "        \n",
    "        #stop when there is only one cart left\n",
    "        if len(carts) == 1: \n",
    "            return carts[0].position\n",
    "        \n",
    "d13_p2(input_d13)        "
   ]
  },
  {
   "cell_type": "markdown",
   "metadata": {},
   "source": [
    "And that gives us the second star."
   ]
  },
  {
   "cell_type": "markdown",
   "metadata": {},
   "source": [
    "### [Day 14: Chocolate Charts](https://adventofcode.com/2018/day/14)\n",
    "\n",
    "We finally find the reason for all the pots and their plants and tracks with their carts. The Elves are growing the plants to make hot chocolate and use the tracks to move the produce to a makeshift underground laboratory.\n",
    "\n",
    "The Elves are trying to come up with the ultimate hot chocolate recipe; they're even maintaining a scoreboard which tracks the quality score (0-9) of each recipe. They think their skill will improve after making a few recipes (our puzzle input). However, that could take ages; we can speed this up considerably by identifying the scores of the ten recipes after that.  \n",
    "\n",
    "#### Part One\n",
    "\n",
    ">What are the scores of the ten recipes immediately after the number of recipes in your puzzle input?"
   ]
  },
  {
   "cell_type": "code",
   "execution_count": 48,
   "metadata": {},
   "outputs": [
    {
     "data": {
      "text/plain": [
       "'5715102879'"
      ]
     },
     "execution_count": 48,
     "metadata": {},
     "output_type": "execute_result"
    }
   ],
   "source": [
    "def d14_p1(target=430971):\n",
    "    scoreboard = [3, 7]   #initially there are onlt 2 recipes on the scoreboard\n",
    "    elf1 = 0 #elf1's current recipe is 3\n",
    "    elf2 = 1 #elf2's current recipe is 7\n",
    "    \n",
    "    while len(scoreboard) < target + 10:\n",
    "        score = scoreboard[elf1] + scoreboard[elf2]\n",
    "        scoreboard.extend(divmod(score, 10) if score >= 10 else (score,))\n",
    "        \n",
    "        elf1 = (elf1 + 1 + scoreboard[elf1]) % len(scoreboard)\n",
    "        elf2 = (elf2 + 1 + scoreboard[elf2]) % len(scoreboard)\n",
    "        \n",
    "    return ''.join(map(str, scoreboard[-10:]))\n",
    "\n",
    "d14_p1()"
   ]
  },
  {
   "cell_type": "markdown",
   "metadata": {},
   "source": [
    "#### Part Two\n",
    "\n",
    ">How many recipes appear on the scoreboard to the left of the score sequence in your puzzle input?"
   ]
  },
  {
   "cell_type": "code",
   "execution_count": 49,
   "metadata": {},
   "outputs": [
    {
     "data": {
      "text/plain": [
       "20225706"
      ]
     },
     "execution_count": 49,
     "metadata": {},
     "output_type": "execute_result"
    }
   ],
   "source": [
    "def d14_p2(target=430971):\n",
    "    scoreboard = [3, 7]   #initially there are onlt 2 recipes on the scoreboard\n",
    "    elf1 = 0 #elf1's current recipe is 3\n",
    "    elf2 = 1 #elf2's current recipe is 7\n",
    "    \n",
    "    digits = list(map(int, str(target)))\n",
    "    \n",
    "    #a maximum of two recipes can be added to the scoreboard per round\n",
    "    #we need to compare scoreboard[-len(digits):] == digits or scoreboard[-len(digits)-1:-1] == digits\n",
    "    while scoreboard[-len(digits):] != digits and scoreboard[-len(digits)-1:-1] != digits:\n",
    "        score = scoreboard[elf1] + scoreboard[elf2]\n",
    "        scoreboard.extend(divmod(score, 10) if score >= 10 else (score,))\n",
    "        \n",
    "        elf1 = (elf1 + 1 + scoreboard[elf1]) % len(scoreboard)\n",
    "        elf2 = (elf2 + 1 + scoreboard[elf2]) % len(scoreboard)\n",
    "        \n",
    "    return len(scoreboard) - len(digits) - (0 if scoreboard[-len(digits):] == digits else 1)\n",
    "\n",
    "d14_p2()"
   ]
  },
  {
   "cell_type": "markdown",
   "metadata": {},
   "source": [
    "### [Day 15: Beverage Bandits](https://adventofcode.com/2018/day/15)\n",
    "\n",
    "After an easy time with the puzzle for day 14, we face a tough one. We have to simulate a turn-based battle game between the Elves and the Goblins. \n",
    "\n",
    "Our puzzle input consists of a map of the area, detailing the positions of walls (#), open cavern (.), and starting positions of every Goblin (G) and Elf (E).\n",
    "\n",
    "Combat proceeds in rounds; in each round, each unit that is still alive takes a turn, resolving all of its actions before the next unit's turn begins. On each unit's turn, it tries to move into range of an enemy (if it isn't already) and then attack (if it is in range). If no targets remain, combat ends.\n",
    "\n",
    "The most complicated part was making sure that the tie breaking rules where correctly applied whenever a unit had more than one target to attack, or more than one shortest path was found.\n",
    "\n",
    "After fixing an issue with the game logic (I forgot that the units could move and attack in the same turn), I had an initial solution that worked on all the combat scenarios, but had a subtle bug that I detected for the first time when using the real input. I noticed later, that it I could have detected it earlier if I had used the first example of movement: \n",
    "\n",
    "     Initial      3rd round\n",
    "    #########     #########\n",
    "    #G..G..G#     #.......#\n",
    "    #.......#     #..GGG..#\n",
    "    #.......#     #..GEG..#\n",
    "    #G..E..G#  => #G..G...#\n",
    "    #.......#     #......G#\n",
    "    #.......#     #.......#\n",
    "    #G..G..G#     #.......#\n",
    "    #########     #########\n",
    "\n",
    "**Note to self**: Make sure that all test cases pass before trying the solution against the real input.\n",
    "\n",
    "#### Part One\n",
    "\n",
    ">What is the outcome of the combat described in your puzzle input?\n",
    "\n",
    "I decided to create two simple classes to represent the game units (Elves and Goblins) and the game state. The class **Unit** defaults the unit's attack power to 3 but allows for the Elves to have a different setting (needed for Part Two of the puzzle). The class **Game** is where the combat logic is defined. The most important methods are **move_unit** and **best_move**. These implement the \"closest in reading-order\" logic."
   ]
  },
  {
   "cell_type": "code",
   "execution_count": 50,
   "metadata": {},
   "outputs": [],
   "source": [
    "class Race(Enum):\n",
    "    elf = 'E'\n",
    "    goblin = 'G'\n",
    "\n",
    "class Unit:\n",
    "    def __init__(self, position, race, attack_power=3, hp=200):\n",
    "        self.position = position\n",
    "        self.race = race\n",
    "        self.hp = hp\n",
    "        self.attack_power = attack_power if race == Race.elf else 3\n",
    "\n",
    "class Game:\n",
    "    def __init__(self, area, elf_attack_power=3):\n",
    "        self.area = []\n",
    "        self.walls = set() #position of the walls \n",
    "        self.units = [] \n",
    "        self.rounds = 0\n",
    "\n",
    "        for y, line in enumerate(area):\n",
    "            self.area.append(list(line.strip()))\n",
    "            for x, c in enumerate(line):\n",
    "                if c == '#':\n",
    "                    self.walls.add((x, y))\n",
    "                elif c in 'EG':\n",
    "                    self.units.append(Unit((x, y), Race(c),\n",
    "                        attack_power=elf_attack_power))\n",
    "                    self.area[y][x] = '.'\n",
    "\n",
    "    def occupied_squares(self):\n",
    "        '''Coordinates of the walls and the squares occupied by the Elves and Goblins'''\n",
    "        return self.walls | set([u.position for u in self.units if u.hp > 0])\n",
    "\n",
    "    def show_area(self):\n",
    "        print('Status after {} rounds: '.format(self.rounds))\n",
    "        for y, row in enumerate(self.area):\n",
    "            r = []\n",
    "            for x, a in enumerate(row):\n",
    "                if (x, y) in [u.position for u in self.units]:\n",
    "                    r.append([u.race.value for u in self.units if u.position == (x,\n",
    "                        y)][0])\n",
    "                else:\n",
    "                    r.append(a)\n",
    "            scores = ', '.join(f\"{u.race.value}({u.hp})\" for u in\n",
    "                               sorted([x for x in self.units\n",
    "                                       if x.position[1] == y],\n",
    "                                      key=lambda z: z.position[0]))\n",
    "            print(''.join(r) + '\\t' + scores)\n",
    "\n",
    "    def turn(self):\n",
    "        #units take their turns in reading order (top-to-bottom, left-to-right)\n",
    "        for unit in sorted(self.units, key=lambda u: (u.position[1],\n",
    "            u.position[0])):\n",
    "\n",
    "            #units that died during the round\n",
    "            if unit.hp <= 0:\n",
    "                continue\n",
    "\n",
    "            #find the unit's next action: attack or move\n",
    "            targets, action = self.next_action(unit)    \n",
    "\n",
    "            #no valid target was found - end game\n",
    "            if action == 'no_action':\n",
    "                return False\n",
    "\n",
    "            if action == 'move' and targets:\n",
    "                self.move_unit(unit, targets)\n",
    "\n",
    "                #unit has moved, lets see if it is in range of a target\n",
    "                targets, action = self.next_action(unit)\n",
    "\n",
    "            if action == 'attack' and targets:\n",
    "                #pick the target with fewest hp that is closest in reading order\n",
    "                t = sorted(targets, key = lambda x : (x.hp, x.position[1],\n",
    "                             x.position[0]))[0]\n",
    "\n",
    "                self.attack_target(unit, t)\n",
    "\n",
    "        #after each turn, remove any units that have died\n",
    "        self.units = [u for u in self.units if u.hp > 0]\n",
    "\n",
    "        self.rounds += 1\n",
    "        #self.show_area()\n",
    "\n",
    "        return True\n",
    "\n",
    "    def adjacent_positions(self, position):\n",
    "        return set([(position[0] + a, position[1] + b) \n",
    "            for a, b in [(0, -1), (-1, 0), (1, 0), (0, 1)]])\n",
    "\n",
    "    def next_action(self, unit):\n",
    "        '''determines whether a unit should attack or move.\n",
    "        if the unit is in range of one or more targets, return the target(s)\n",
    "        and set the action to \"attack\"\n",
    "        if it is not in range of a target, return all the targets that have \n",
    "        squares in range and set the action to \"move\"\n",
    "        if there are not more targets, return \"no_action\" to end the game\n",
    "        '''\n",
    "        #if there are no targets, return \"no_action\"\n",
    "        if len([t for t in self.units if t.race != unit.race and t.hp > 0]) == 0:\n",
    "            return None, 'no_action'\n",
    "\n",
    "        can_attack = []\n",
    "        pos = self.adjacent_positions(unit.position)\n",
    "        can_attack = [t for t in self.units for p in pos if t.race is not\n",
    "                unit.race and t.hp > 0 and\n",
    "                t.position[0] == p[0] and t.position[1] == p[1]]\n",
    "        \n",
    "        if can_attack:\n",
    "            return can_attack, 'attack'\n",
    "\n",
    "        #all squares that are occupied with walls or other units\n",
    "        occupied = self.occupied_squares()\n",
    "        #all targets with open adjacent squares\n",
    "        targets = []\n",
    "        for t in self.units:\n",
    "            if t is not unit and t.race is not unit.race and t.hp > 0:\n",
    "                if self.adjacent_positions(t.position) - occupied:\n",
    "                    targets.append(t)\n",
    "\n",
    "        return targets, 'move'\n",
    "\n",
    "    def move_unit(self, unit, targets):\n",
    "        '''from the list of targets, move towards the one that is reachable \n",
    "        and is closest in reading order\n",
    "        '''\n",
    "        results = []\n",
    "        best = None\n",
    "        occupied = self.occupied_squares()\n",
    "       \n",
    "        in_range = []\n",
    "        for t in targets:\n",
    "            in_range.extend(self.adjacent_positions(t.position)-occupied)\n",
    "\n",
    "        visited = occupied - set([unit.position])\n",
    "        queue = deque([(0, [unit.position])])\n",
    "        while queue:\n",
    "            distance, path = queue.popleft()\n",
    "            if best and len(path) > best:\n",
    "                break\n",
    "            node = path[-1]\n",
    "            if node in in_range:\n",
    "                results.append(path)\n",
    "                best = len(path)\n",
    "                continue\n",
    "            if node in visited:\n",
    "                continue\n",
    "            visited.add(node)\n",
    "            for neighbor in sorted(self.adjacent_positions(node), key = lambda\n",
    "                    x : (x[1], x[0])):\n",
    "                if neighbor in visited:\n",
    "                    continue\n",
    "                queue.append((distance + 1, path + [neighbor]))\n",
    "        \n",
    "        if results:\n",
    "            coordinate = self.best_move(results)\n",
    "            unit.position = coordinate\n",
    "\n",
    "    def best_move(self, moves):\n",
    "        '''Decide which of the paths found should be taken based on the given\n",
    "        rules'''\n",
    "\n",
    "        #if there is only one path found, return the first move\n",
    "        if len(moves) == 1:\n",
    "            return moves[0][1]\n",
    "\n",
    "        #create pairs (first_coordinate, final_coordinate)\n",
    "        paths = [(p[1], p[-1]) for p in moves]\n",
    "        paths.sort(key = lambda x : (x[1][1], x[1][0], x[0][1], x[0][0]))\n",
    "\n",
    "        # order the paths by destination and initial coordinate both in reading order\n",
    "        return paths[0][0]\n",
    "\n",
    "    def attack_target(self, unit, target):\n",
    "        target.hp -= unit.attack_power\n",
    "\n",
    "    def num_elves(self):\n",
    "        return len([u for u in self.units if u.race is Race.elf and u.hp > 0])\n",
    "\n",
    "    def run(self):\n",
    "        while True:\n",
    "            if not self.turn():\n",
    "                return self.rounds, self.total_hp(), self.num_elves()\n",
    "\n",
    "    def total_hp(self):\n",
    "        return sum(u.hp for u in self.units if u.hp > 0)        "
   ]
  },
  {
   "cell_type": "markdown",
   "metadata": {},
   "source": [
    "To obtain the answer for Part One, we just need to run the simulation"
   ]
  },
  {
   "cell_type": "code",
   "execution_count": 51,
   "metadata": {},
   "outputs": [
    {
     "name": "stdout",
     "output_type": "stream",
     "text": [
      "Status after 74 rounds: \n",
      "################################\t\n",
      "################..#...##...#####\t\n",
      "#######..#######..#....##..#####\t\n",
      "#######....#####........##.#####\t\n",
      "######.....#####........##.#####\t\n",
      "######.....##.###..........#####\t\n",
      "#####.........####.......#######\t\n",
      "######.#......####......GE######\tG(14), E(-1)\n",
      "##########....#####......G######\tG(179)\n",
      "########.......###....G..G..####\tG(179), G(200)\n",
      "#########.....####.....GG.....##\tG(5), G(32)\n",
      "#########............GG......###\tG(113), G(200)\n",
      "######........#####..G.G.....###\tG(200), G(200)\n",
      "####.........#######...G....####\tG(200)\n",
      "###.........#########...G...####\tG(200)\n",
      "#...#.......#########G.........#\tG(200)\n",
      "#..###..#...#########........###\t\n",
      "#..##...#...#########.........##\t\n",
      "#...........#########.........##\t\n",
      "#............#######........####\t\n",
      "###......#....#####........#####\t\n",
      "###########......G.G........####\tG(200), G(131)\n",
      "##########........G..........###\tG(200)\n",
      "##########...................###\t\n",
      "#######..................##.####\t\n",
      "#######................#########\t\n",
      "########.#.............#########\t\n",
      "#######..#####.#......##########\t\n",
      "######...#######...##.##########\t\n",
      "################..###.##########\t\n",
      "###############.......##########\t\n",
      "################################\t\n",
      "\t\n"
     ]
    },
    {
     "data": {
      "text/plain": [
       "181522"
      ]
     },
     "execution_count": 51,
     "metadata": {},
     "output_type": "execute_result"
    }
   ],
   "source": [
    "input_d15 = read_input('15')\n",
    "\n",
    "def d15_p1(area):\n",
    "    game = Game(area)\n",
    "    rounds, total_hp, _ = game.run() \n",
    "    game.show_area()\n",
    "\n",
    "    return rounds * total_hp\n",
    "\n",
    "d15_p1(input_d15)"
   ]
  },
  {
   "cell_type": "markdown",
   "metadata": {},
   "source": [
    "#### Part Two\n",
    "\n",
    ">After increasing the Elves' attack power until it is just barely enough for them to win without any Elves dying, what is the outcome of the combat described in your puzzle input?\n",
    "\n",
    "We need to run the simulation, increasing the Elves attack power in each iteration, until the Elves win without any death."
   ]
  },
  {
   "cell_type": "code",
   "execution_count": 52,
   "metadata": {},
   "outputs": [
    {
     "name": "stdout",
     "output_type": "stream",
     "text": [
      "Status after 58 rounds: \n",
      "################################\t\n",
      "################..#...##...#####\t\n",
      "#######..#######..#....##..#####\t\n",
      "#######....#####........##.#####\t\n",
      "######.....#####........##.#####\t\n",
      "######.....##.###..........#####\t\n",
      "#####.........####.......#######\t\n",
      "######.#......####........######\t\n",
      "##########....#####.......######\t\n",
      "########.......###..........####\t\n",
      "#########.....####............##\t\n",
      "#########........GE..........###\tG(-4), E(47)\n",
      "######........#####..........###\t\n",
      "####.........#######........####\t\n",
      "###.........#########.......####\t\n",
      "#...#.......#########..........#\t\n",
      "#..###..#...#########.E......###\tE(155)\n",
      "#..##...#...#########.........##\t\n",
      "#...........#########.........##\t\n",
      "#...........E#######E.......####\tE(188), E(62)\n",
      "###......#...E#####........#####\tE(101)\n",
      "###########.E..E..E.........####\tE(8), E(119), E(164)\n",
      "##########.EE................###\tE(134), E(200)\n",
      "##########...................###\t\n",
      "#######..................##.####\t\n",
      "#######................#########\t\n",
      "########.#.............#########\t\n",
      "#######..#####.#......##########\t\n",
      "######...#######...##.##########\t\n",
      "################..###.##########\t\n",
      "###############.......##########\t\n",
      "################################\t\n",
      "\t\n"
     ]
    },
    {
     "data": {
      "text/plain": [
       "68324"
      ]
     },
     "execution_count": 52,
     "metadata": {},
     "output_type": "execute_result"
    }
   ],
   "source": [
    "def d15_p2(area):\n",
    "    for p in count(4):\n",
    "        game = Game(area, elf_attack_power=p)\n",
    "        num_elves = game.num_elves()\n",
    "        rounds, total_hp, num_elves_alive = game.run()\n",
    "\n",
    "        if num_elves == num_elves_alive:\n",
    "            game.show_area()\n",
    "            return rounds * total_hp\n",
    "\n",
    "d15_p2(input_d15)       "
   ]
  },
  {
   "cell_type": "markdown",
   "metadata": {},
   "source": [
    "That gives us our second star of the day!\n",
    "\n",
    "### [Day 16: Chronal Classification](https://adventofcode.com/2018/day/16)\n",
    "\n",
    "On day 16 we try to understand how the wrist device works. According to its programming manual, the device has four registers (numbered 0 through 3) that can be manipulated by instructions containing one of 16 opcodes. The registers start with the value 0.\n",
    "\n",
    "The opcodes fall into seven general categories:\n",
    "     \n",
    "    Addition\n",
    "    Multiplication\n",
    "    Bitwise AND\n",
    "    Bitwise OR\n",
    "    Assignment\n",
    "    Greater-than testing\n",
    "    Equality testing\n",
    "\n",
    "Each of the instructions consists of four values: an opcode, two inputs (named A and B), and an output (named C), in that order. The opcode specifies the behavior of the instruction and how the inputs are interpreted. The output, C, is always treated as a register.\n",
    "\n",
    "Unfortunately, while the manual gives the name of each opcode, it doesn't seem to indicate the number. Based on the samples that we were given (our puzzle input) we have to reverse engineer the opcode numbers and map them to different instructions.\n",
    "\n",
    "#### Part One\n",
    "\n",
    ">How many samples in your puzzle input behave like three or more opcodes?\n",
    "\n",
    "Each sample gives us the contents of the registers before and after the instruction is executed.\n",
    "\n",
    "    Before: [3, 2, 1, 1]\n",
    "    9 2 1 2\n",
    "    After:  [3, 2, 2, 1]\n",
    "\n",
    "For every sample, we compare its results (After:) against the result of executing each of the instructions in our device, keeping track of the number of instructions that produce the same result."
   ]
  },
  {
   "cell_type": "code",
   "execution_count": 53,
   "metadata": {},
   "outputs": [
    {
     "data": {
      "text/plain": [
       "570"
      ]
     },
     "execution_count": 53,
     "metadata": {},
     "output_type": "execute_result"
    }
   ],
   "source": [
    "instructions = {\n",
    "    'addr': lambda registers, a, b: registers[a] + registers[b],\n",
    "    'addi': lambda registers, a, b: registers[a] + b,\n",
    "    'mulr': lambda registers, a, b: registers[a] * registers[b],\n",
    "    'muli': lambda registers, a, b: registers[a] * b,\n",
    "    'banr': lambda registers, a, b: registers[a] & registers[b],\n",
    "    'bani': lambda registers, a, b: registers[a] & b,\n",
    "    'borr': lambda registers, a, b: registers[a] | registers[b],\n",
    "    'bori': lambda registers, a, b: registers[a] | b,\n",
    "    'setr': lambda registers, a, b: registers[a] ,\n",
    "    'seti': lambda registers, a, b: a,\n",
    "    'gtir': lambda registers, a, b: 1 if a > registers[b] else 0,\n",
    "    'gtri': lambda registers, a, b: 1 if registers[a] > b else 0,\n",
    "    'gtrr': lambda registers, a, b: 1 if registers[a] > registers[b] else 0,\n",
    "    'eqir': lambda registers, a, b: 1 if a == registers[b] else 0,\n",
    "    'eqri': lambda registers, a, b: 1 if registers[a] == b else 0,\n",
    "    'eqrr': lambda registers, a, b: 1 if registers[a] == registers[b] else 0\n",
    "    }\n",
    "\n",
    "def d16_p1(samples):\n",
    "    behaves_like_three_or_more = 0\n",
    "    for sample in samples:\n",
    "        before, op, after = [list(map(int, re.findall(r'-?\\d+', s))) for s in sample.splitlines()]\n",
    "    \n",
    "        count = 0\n",
    "        for instr in instructions:\n",
    "            result = before[:]\n",
    "            result[op[3]] = instructions[instr](before, op[1], op[2])\n",
    "            \n",
    "            if after == result:\n",
    "                count += 1\n",
    "        if count >= 3:\n",
    "            behaves_like_three_or_more += 1\n",
    "    \n",
    "    return behaves_like_three_or_more\n",
    "\n",
    "\n",
    "input_d16 = read_input_string('16')\n",
    "*samples, _, program = input_d16.split('\\n\\n')\n",
    "\n",
    "d16_p1(samples)"
   ]
  },
  {
   "cell_type": "markdown",
   "metadata": {},
   "source": [
    "#### Part Two\n",
    "\n",
    "Using the samples we collected, we now need to work out the number of each opcode and execute the test program (the second section of our puzzle input).\n",
    "\n",
    ">What value is contained in register 0 after executing the test program?\n",
    "\n",
    "I have decided to repeat the process from part one but this time, whenever there is a match between the sample and the result of the device's instruction, I store this as a potential mapping candidate. Inversely, whenever there is a mismatch, I will remove the instruction from the candidate list.\n",
    "\n",
    "After processing all the samples, I expect that some of the opcodes will have only one candidate instruction and therefore have been precisely determined. So I'll remove this instruction from the candidates list of all the other opcodes where an ambiguity exists.\n",
    "\n",
    "We then need just to execute all the instructions in the program, using the mapping table, and verify what is the value contained in register 0."
   ]
  },
  {
   "cell_type": "code",
   "execution_count": 54,
   "metadata": {},
   "outputs": [
    {
     "data": {
      "text/plain": [
       "503"
      ]
     },
     "execution_count": 54,
     "metadata": {},
     "output_type": "execute_result"
    }
   ],
   "source": [
    "def d16_p2(samples, program):\n",
    "    candidates = defaultdict(set)\n",
    "    for sample in samples:\n",
    "        before, op, after = [list(map(int, re.findall(r'-?\\d+', s))) for s in sample.splitlines()]\n",
    "    \n",
    "        count = 0\n",
    "        for instr in instructions:\n",
    "            result = before[:]\n",
    "            result[op[3]] = instructions[instr](before, op[1], op[2])\n",
    "            \n",
    "            if after == result:\n",
    "                candidates[op[0]].add(instr)\n",
    "            else:\n",
    "                candidates[op[0]].discard(instr)\n",
    "    \n",
    "    mapping = defaultdict(lambda : \"\")\n",
    "    while any(candidates.values()):\n",
    "        for opcode, instrs in candidates.items():\n",
    "            if len(instrs) == 1:\n",
    "                mapping[opcode] = instrs.pop()\n",
    "                for other in candidates.values():\n",
    "                    other.discard(mapping[opcode])\n",
    "    \n",
    "    assert 16 == len(set(mapping.keys())) == len(set(mapping.values()))\n",
    "        \n",
    "    registers = [0] * 4\n",
    "    for instr in program.splitlines():\n",
    "        opcode, a, b, c = [int(i) for i in re.findall(r'-?\\d+', instr)]\n",
    "        registers[c] = instructions[mapping[opcode]](registers, a, b)\n",
    "        \n",
    "    return registers[0]\n",
    "\n",
    "d16_p2(samples, program)                "
   ]
  },
  {
   "cell_type": "markdown",
   "metadata": {},
   "source": [
    "### [Day 17: Reservoir Research](https://adventofcode.com/2018/day/17)\n",
    "\n",
    "Day 17 presents another simulation problem. Our puzzle input consists of a scan of a two-dimensional vertical slide of te ground. In the scan, x represents the distance to the right, and y represents the distance down. There is also a spring of water near the surface at x=500, y=0. The scan identifies which square meters are clay. Our objective is to determine how much water is trapped underneath the surface.\n",
    "\n",
    "We start by parsing the input file and creating a two-dimensional array to the represent the ground."
   ]
  },
  {
   "cell_type": "code",
   "execution_count": 55,
   "metadata": {},
   "outputs": [],
   "source": [
    "input_d17 = read_input('17')\n",
    "\n",
    "Vein = namedtuple('Vein', ['vertical','x','y','end'])\n",
    "\n",
    "def parse_vein(vein):\n",
    "    vertical = vein[0] == 'x'\n",
    "    a, b = vein.split(', ')\n",
    "    if vertical:\n",
    "        x = int(a[2:])\n",
    "        y, end = [int(i) for i in re.findall(r'\\d+', b)]\n",
    "    else:\n",
    "        y = int(a[2:])\n",
    "        x, end = [int(i) for i in re.findall(r'\\d+', b)]\n",
    "        \n",
    "    return Vein(vertical, x, y, end)\n",
    "\n",
    "def parse_scan(scan):\n",
    "    veins = [parse_vein(s) for s in scan]\n",
    "    \n",
    "    min_x = min(v.x for v in veins) - 1\n",
    "    max_x = max(v.end if not v.vertical else v.x for v in veins) + 1\n",
    "    min_y = min(v.y for v in veins)\n",
    "    max_y = max(v.end if v.vertical else v.y for v in veins) + 1\n",
    "    \n",
    "    ground = [['.'] * (max_x - min_x + 1) for _ in range(max_y)]\n",
    "    \n",
    "    for vein in veins:\n",
    "        if vein.vertical:\n",
    "            for i in range(vein.y, vein.end + 1):\n",
    "                ground[i][vein.x-min_x] = '#'\n",
    "        else:\n",
    "            for i in range(vein.x, vein.end + 1):\n",
    "                ground[vein.y][i-min_x] = '#'\n",
    "    \n",
    "    return ground, min_x, max_x, min_y, max_y"
   ]
  },
  {
   "cell_type": "markdown",
   "metadata": {},
   "source": [
    "Here is the example input \n",
    "\n",
    "    x=495, y=2..7\n",
    "    y=7, x=495..501\n",
    "    x=501, y=3..7\n",
    "    x=498, y=2..4\n",
    "    x=506, y=1..2\n",
    "    x=498, y=10..13\n",
    "    x=504, y=10..13\n",
    "    y=13, x=498..504\n",
    "\n",
    "And here' the result after rendering it:  "
   ]
  },
  {
   "cell_type": "code",
   "execution_count": 56,
   "metadata": {},
   "outputs": [
    {
     "name": "stdout",
     "output_type": "stream",
     "text": [
      "......+.......\n",
      "............#.\n",
      ".#..#.......#.\n",
      ".#..#..#......\n",
      ".#..#..#......\n",
      ".#.....#......\n",
      ".#.....#......\n",
      ".#######......\n",
      "..............\n",
      "..............\n",
      "....#.....#...\n",
      "....#.....#...\n",
      "....#.....#...\n",
      "....#######...\n"
     ]
    }
   ],
   "source": [
    "test_input = r'''x=495, y=2..7\n",
    "y=7, x=495..501\n",
    "x=501, y=3..7\n",
    "x=498, y=2..4\n",
    "x=506, y=1..2\n",
    "x=498, y=10..13\n",
    "x=504, y=10..13\n",
    "y=13, x=498..504'''\n",
    "\n",
    "g, _, _, _, m = parse_scan(test_input.splitlines())\n",
    "g[0][6] = '+'\n",
    "for y in range(m):\n",
    "    print(''.join(g[y]))"
   ]
  },
  {
   "cell_type": "markdown",
   "metadata": {},
   "source": [
    "\n",
    "\n",
    "    ......+.......\n",
    "    ......|.....#.\n",
    "    .#..#||||...#.\n",
    "    .#..#~~#|.....\n",
    "    .#..#~~#|.....\n",
    "    .#~~~~~#|.....\n",
    "    .#~~~~~#|.....\n",
    "    .#######|.....\n",
    "    ........|.....\n",
    "    ...|||||||||..\n",
    "    ...|#~~~~~#|..\n",
    "    ...|#~~~~~#|..\n",
    "    ...|#~~~~~#|..\n",
    "    ...|#######|..\n",
    "\n",
    "Initially there is only one water flow that originates from the water spring (500, 0). The spring of water produces water forever. Water can move through sand, but is blocked by clay.  \n",
    "\n",
    "I have decided to use a recursive pattern to process the water flow. Water always moves down when possible, and spreads to the left and right otherwise, filling space that has clay on both sides and falling out otherwise, originating one or two new water sources/flows. Water sources are processed until we reach a depth that is larger than the largest y coordinate in our puzzle input.\n",
    "\n"
   ]
  },
  {
   "cell_type": "code",
   "execution_count": 57,
   "metadata": {},
   "outputs": [],
   "source": [
    "def spread_water(ground, origin, min_x, max_x):\n",
    "    spill = False\n",
    "    new_sources = []\n",
    "\n",
    "    #spread left\n",
    "    (x, y) = origin\n",
    "    x -= 1\n",
    "    while x >= min_x:\n",
    "        g = ground[y][x]\n",
    "        below = ground[y+1][x]\n",
    "        if g in '#~':\n",
    "            x += 1\n",
    "            break\n",
    "        \n",
    "        elif below == '.': #new source\n",
    "            spill = True\n",
    "            new_sources.append((x, y))\n",
    "            break\n",
    "        elif g == '|' and below == '|':\n",
    "            break\n",
    "\n",
    "        x -= 1\n",
    "    left = x\n",
    "\n",
    "    #spread right\n",
    "    (x, y) = origin\n",
    "    x += 1\n",
    "    while x <= max_x:\n",
    "        g = ground[y][x]\n",
    "        below = ground[y+1][x]\n",
    "        if g in '#~': \n",
    "            x -= 1\n",
    "            break\n",
    "\n",
    "        elif below == '.': #new source\n",
    "            spill = True\n",
    "            new_sources.append((x, y))\n",
    "            break\n",
    "\n",
    "        elif g == '|' and below == '|':\n",
    "            break\n",
    "\n",
    "        x += 1\n",
    "    right = x\n",
    "\n",
    "    return left, right, spill, new_sources\n",
    "\n",
    "def source_flow(source, ground, min_x, max_x, max_y):\n",
    "    (x, y) = source\n",
    "    start_y = y\n",
    "\n",
    "    if ground[y][x] == '~':\n",
    "        return\n",
    "\n",
    "    y += 1\n",
    "    while y < max_y and y > start_y:\n",
    "        g = ground[y][x]\n",
    "\n",
    "        if g == '.':\n",
    "            ground[y][x] = '|'\n",
    "            y += 1\n",
    "        elif g in '~#':\n",
    "            y -= 1          #go one level up and check if the water overflows\n",
    "            left, right, spill, sources = spread_water(ground, (x, y), min_x, max_x)\n",
    "\n",
    "            for i in range(left, right+1):\n",
    "                ground[y][i] = '|' if spill else '~' \n",
    "\n",
    "            if spill:       #if spill then there is at least one new source\n",
    "                for s in sources:\n",
    "                    source_flow(s, ground, min_x, max_x, max_y)\n",
    "\n",
    "        elif g == '|':  \n",
    "            return #merge with other sources"
   ]
  },
  {
   "cell_type": "markdown",
   "metadata": {},
   "source": [
    "#### Part One\n",
    "\n",
    ">How many tiles can the water reach within the range of y values in your scan?\n",
    "\n",
    "To answer the first part we need only to count the number of tiles with falling ('|') or standing water ('~') after the simulation is completed."
   ]
  },
  {
   "cell_type": "code",
   "execution_count": 58,
   "metadata": {},
   "outputs": [
    {
     "data": {
      "text/plain": [
       "50838"
      ]
     },
     "execution_count": 58,
     "metadata": {},
     "output_type": "execute_result"
    }
   ],
   "source": [
    "def d17_p1(scan, water_spring=(500, 0)):\n",
    "    ground, min_x, max_x, min_y, max_y = parse_scan(scan)\n",
    "    #add the initial source of water\n",
    "    ground[water_spring[1]][water_spring[0]-min_x] = '+'\n",
    "\n",
    "    water_spring = (water_spring[0]-min_x, water_spring[1])\n",
    "    source_flow(water_spring, ground, 0, max_x-min_x, max_y)\n",
    "\n",
    "    return sum(1 for x in range(max_x-min_x) for y in range(min_y, max_y) if\n",
    "            ground[y][x] in '|~')\n",
    "\n",
    "d17_p1(input_d17)"
   ]
  },
  {
   "cell_type": "markdown",
   "metadata": {},
   "source": [
    "#### Part Two\n",
    "\n",
    ">How many water tiles are left after the water spring stops producing water and all remaining water not at rest has drained?\n",
    "\n",
    "The answer again is found after running the simulation. This time, we count only the number of tiles with standing water ('~')"
   ]
  },
  {
   "cell_type": "code",
   "execution_count": 59,
   "metadata": {},
   "outputs": [
    {
     "data": {
      "text/plain": [
       "43039"
      ]
     },
     "execution_count": 59,
     "metadata": {},
     "output_type": "execute_result"
    }
   ],
   "source": [
    "def d17_p2(scan, water_spring=(500, 0)):\n",
    "    ground, min_x, max_x, min_y, max_y = parse_scan(scan)\n",
    "    #add the initial source of water\n",
    "    ground[water_spring[1]][water_spring[0]-min_x] = '+'\n",
    "\n",
    "    water_spring = (water_spring[0]-min_x, water_spring[1])\n",
    "    source_flow(water_spring, ground, 0, max_x-min_x, max_y)\n",
    "\n",
    "    return sum(1 for x in range(max_x-min_x) for y in range(min_y, max_y) if\n",
    "            ground[y][x] == '~')\n",
    "\n",
    "d17_p2(input_d17)"
   ]
  },
  {
   "cell_type": "markdown",
   "metadata": {},
   "source": [
    "### [Day 18: Settlers of The North Pole](https://adventofcode.com/2018/day/18)\n",
    "\n",
    "Just like day 12, today's puzzle is a [cellular automaton](https://en.wikipedia.org/wiki/Cellular_automaton), and in this case similar to [Conway's Game of Life](https://en.wikipedia.org/wiki/Conway%27s_Game_of_Life): a two-dimensional orthogonal grid of square cells, each of which is in one of **three** possible states, open ground (.), trees (|), or a lumberyard (#). Every cell interacts with its eight neighbours, which are the cells that are horizontally, vertically, or diagonally adjacent. Each minute, the following transitions occur: \n",
    "\n",
    "    An open acre will become filled with trees if three or more adjacent acres contained trees. Otherwise, nothing happens.\n",
    "    An acre filled with trees will become a lumberyard if three or more adjacent acres were lumberyards. Otherwise, nothing happens.\n",
    "    An acre containing a lumberyard will remain a lumberyard if it was adjacent to at least one other lumberyard and at least one acre containing trees. Otherwise, it becomes open.\n",
    "\n",
    "These changes happen across all acres simultaneously. Each generation is a pure function of the preceding one. The rules continue to be applied repeatedly to create further generations.\n",
    "\n",
    "#### Part One\n",
    "\n",
    ">What will the total resource value of the lumber collection area be after 10 minutes?\n",
    "\n",
    "The first part is straightforward: The answer corresponds to the **#trees x #lumberyards** that exist in our grid, after 10 generations."
   ]
  },
  {
   "cell_type": "code",
   "execution_count": 61,
   "metadata": {},
   "outputs": [
    {
     "name": "stdout",
     "output_type": "stream",
     "text": [
      "......#||||||||||.........##||||||||||||||||||||||\n",
      "......##|||||||||.........##|||||||||||###########\n",
      ".#....##||||||||||.........##|||||||||############\n",
      "##.....##|||||||||.........#||||||||||##..##|##...\n",
      "##.....##|||||||##..........||||||||||##.##|||##..\n",
      "##.....##|||||||##...........|||||||||#####|||###.\n",
      "##......##|||||##..............||||||||####||||##.\n",
      "........##||||###...............||||||||###||||||#\n",
      "......|###|||##..#####...........||||||||#||||||||\n",
      ".....||||||||##...#####..........||||####|||||||||\n",
      "....##||||#||##...|||##...........|||########|||||\n",
      ".....##|####||#####||##...........|||#..#######|||\n",
      "###.######.##||####||##............||........##|||\n",
      "|#####|##..#|||||#|||##...........##..........##||\n",
      "||####|##..||||||||||##..........####........##|||\n",
      "||###|||...||||||||||##.........#####.........||||\n",
      "##..........##|||||||##........###|##.........|||.\n",
      "............###|||||||##......###|###########.....\n",
      ".............###|||#||##.....###||##########|.....\n",
      ".|||#.........##|||#|||.......||||..##||||||||....\n",
      "|||##..........##||||||........||....##||||||.|.|.\n",
      "||||######.....##|||||..............###|#|||...#..\n",
      "||||######.....##||||.....||#.......######....#...\n",
      "||||###||###...|||||......|###.....#####.....##|||\n",
      "|||||#||||#....||||#.....#######.####|##.....##|||\n",
      "|||||||||||...||||##......###|#####|||##.....##|||\n",
      "||||||||||...|||||##.......##|||#||||||......##|||\n",
      "||||||...|..||||||##.......##||||||||||......##|||\n",
      "##||||||||||||||||##.........||||||||........##|||\n",
      "...|||||||||||||||##.........|||..............##||\n",
      ".....||||||||||||##..........####.............##||\n",
      "....||||||#||||||##..........####..............##|\n",
      "....|||||###|||||##........#######.............##|\n",
      "|..|||||##....|||###.....||###||##.........####.#.\n",
      "...|||||##...#######...#|||||||###........######..\n",
      "...|###|##...####......##|||||###........###||||||\n",
      "....#######............###|||##.........###|||||||\n",
      "......#####.............#######.........###|###|||\n",
      ".......####...............#####.........######.|||\n",
      ".....................................#..####......\n",
      "..................................||########.....|\n",
      "..................|...............||#######.....||\n",
      "................##||.............|||###|##....||||\n",
      ".#..............##|||.......|.#..##||#||##....||||\n",
      "|###..........####|||||...|||##..##||||##.....|###\n",
      "||####........###||||||#||||||#####||||##......###\n",
      "||||##.......|||||#|||||#||||||####|||##..........\n",
      ".|||||........|||##|||||||||||||###|||##..........\n",
      "...||.........|||##||||||||||||||#||||####........\n",
      "...............||||||||||||||||||||||#####........\n"
     ]
    },
    {
     "data": {
      "text/plain": [
       "467819"
      ]
     },
     "execution_count": 61,
     "metadata": {},
     "output_type": "execute_result"
    }
   ],
   "source": [
    "def adjacent_acres(lumber_collection, acre):\n",
    "    return [lumber_collection[(acre[0]+x, acre[1]+y)] for (x, y) in \n",
    "            product((-1, 0, 1), (-1, 0, 1)) if x or y]\n",
    "\n",
    "def next_minute(lumber_collection, w, h):\n",
    "    res = defaultdict(lambda : \"\")\n",
    "    for y in range(h):\n",
    "        for x in range(w):\n",
    "            c = lumber_collection[(x, y)]\n",
    "            counts = Counter(adjacent_acres(lumber_collection, (x, y)))\n",
    "            if c == '.':\n",
    "                if counts['|'] >= 3:\n",
    "                    c = '|'\n",
    "            elif c == '|':\n",
    "                if counts['#'] >= 3:\n",
    "                    c = '#'\n",
    "            elif c == '#':\n",
    "                if counts['#'] < 1 or counts['|'] < 1:\n",
    "                    c = '.'\n",
    "\n",
    "            res[(x, y)] = c\n",
    "    return res\n",
    "\n",
    "\n",
    "def d18_p1(area, w=50, h=50):\n",
    "    lumber_collection = defaultdict(lambda: \"\")\n",
    "    for y, line in enumerate(area):\n",
    "        for x, c in enumerate(line):\n",
    "            lumber_collection[(x, y)] = c\n",
    "\n",
    "    for i in range(10):\n",
    "        lumber_collection = next_minute(lumber_collection, w, h)\n",
    "\n",
    "    for y in range(h):\n",
    "        r = []\n",
    "        for x in range(w):\n",
    "            r.append(lumber_collection[(x, y)])\n",
    "        print(''.join(r))\n",
    "\n",
    "    num_trees = sum(1 for v in lumber_collection.values() if v == '|')\n",
    "    num_lumberyards = sum(1 for v in lumber_collection.values() if v == '#')\n",
    "\n",
    "    return num_trees * num_lumberyards\n",
    "\n",
    "input_d18 = read_input('18')\n",
    "d18_p1(input_d18)\n"
   ]
  },
  {
   "cell_type": "markdown",
   "metadata": {},
   "source": [
    "#### Part Two\n",
    "\n",
    ">What will the total resource value of the lumber collection area be after 1000000000 minutes?\n",
    "\n",
    "Running the simulation 1e9 times will for sure take a long time. We can try and identify a loop pattern."
   ]
  },
  {
   "cell_type": "code",
   "execution_count": 62,
   "metadata": {},
   "outputs": [
    {
     "data": {
      "text/plain": [
       "195305"
      ]
     },
     "execution_count": 62,
     "metadata": {},
     "output_type": "execute_result"
    }
   ],
   "source": [
    "def d18_p2(area, w=50, h=50):\n",
    "    lumber_collection = defaultdict(lambda: \"\")\n",
    "    for y, line in enumerate(area):\n",
    "        for x, c in enumerate(line):\n",
    "            lumber_collection[(x, y)] = c\n",
    "\n",
    "    totals = defaultdict(lambda : 0)\n",
    "    prev = 0\n",
    "    for i in count(1):\n",
    "        lumber_collection = next_minute(lumber_collection, w, h)\n",
    "        counts = Counter(lumber_collection.values())\n",
    "        total = counts['|'] * counts['#']\n",
    "        period = i - totals[total]\n",
    "        if period == prev:\n",
    "            if 1000000000 % period == i % period:\n",
    "                return total\n",
    "        totals[total] = i\n",
    "        prev = period\n",
    "\n",
    "d18_p2(input_d18)"
   ]
  }
 ],
 "metadata": {
  "kernelspec": {
   "display_name": "Python 3",
   "language": "python",
   "name": "python3"
  },
  "language_info": {
   "codemirror_mode": {
    "name": "ipython",
    "version": 3
   },
   "file_extension": ".py",
   "mimetype": "text/x-python",
   "name": "python",
   "nbconvert_exporter": "python",
   "pygments_lexer": "ipython3",
   "version": "3.7.2"
  }
 },
 "nbformat": 4,
 "nbformat_minor": 2
}
