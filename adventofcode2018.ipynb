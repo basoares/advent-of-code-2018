{
 "cells": [
  {
   "cell_type": "markdown",
   "metadata": {},
   "source": [
    "### Advent of Code 2018\n",
    "\n",
    "Starting on 1 December 2018 and, every day until the 25 December 2018, a new two-part puzzle is available. Providing a correct answer to the first part of the puzzle will give you a gold star. If you complete both parts, you receive... two gold stars. The description for the second part of the puzzle is only shown after solving part one. \n",
    "\n",
    "I will not copy here the complete descriptions of the puzzle. Follow the links in each section to understand what is asked in each puzzle."
   ]
  },
  {
   "cell_type": "markdown",
   "metadata": {},
   "source": [
    "Let's start with some imports that are needed for the solutions "
   ]
  },
  {
   "cell_type": "code",
   "execution_count": 5,
   "metadata": {},
   "outputs": [],
   "source": [
    "import os\n",
    "from collections import defaultdict, Counter\n",
    "from itertools import cycle"
   ]
  },
  {
   "cell_type": "markdown",
   "metadata": {},
   "source": [
    "### [Day 1](https://adventofcode.com/2018/day/1): Chronal Calibration\n",
    "\n",
    "The input for the first puzzle is a list of integers, one per line, representing the frequency changes. Let's have a look at the first few lines in the input file."
   ]
  },
  {
   "cell_type": "code",
   "execution_count": 39,
   "metadata": {},
   "outputs": [
    {
     "data": {
      "text/plain": [
       "['-8', '-18', '-14', '-10', '-7', '-10', '-16', '+19', '-5', '-7']"
      ]
     },
     "execution_count": 39,
     "metadata": {},
     "output_type": "execute_result"
    }
   ],
   "source": [
    "with open('input/d1.txt', 'r') as f:\n",
    "   input = f.read().strip().split()\n",
    "        \n",
    "input[:10]"
   ]
  },
  {
   "cell_type": "markdown",
   "metadata": {},
   "source": [
    "##### Part One\n",
    "> Starting with a frequency of zero, what is the resulting frequency after all of the changes in frequency have been applied?\n",
    "\n",
    "That's easy! The resulting frequency corresponds to the sum of all the frequency changes"
   ]
  },
  {
   "cell_type": "code",
   "execution_count": 42,
   "metadata": {},
   "outputs": [
    {
     "data": {
      "text/plain": [
       "497"
      ]
     },
     "execution_count": 42,
     "metadata": {},
     "output_type": "execute_result"
    }
   ],
   "source": [
    "def part1():\n",
    "    chgs = [int(x) for x in input]\n",
    "        \n",
    "    return sum(chgs)\n",
    "\n",
    "part1()"
   ]
  },
  {
   "cell_type": "markdown",
   "metadata": {},
   "source": [
    "Submiting the output above will earn us our first star. On to part 2\n",
    "\n",
    "##### Part Two\n",
    "> What is the first frequency your device reaches twice?\n",
    "\n",
    "Reading carefully the description we realize that we have to loop multiple times over the input frequency changes. After a quick search I found __[itertools.cycle](https://docs.python.org/3.6/library/itertools.html#itertools.cycle)__. This allow us to make an iterator that repeats indefinitely over the elementos of the input list. In each iteration, the resulting frequency is added to the set if not visited previously. The process stops when a match is found in the set.  \n",
    "\n",
    "<b>Important:</b> Remember to add the initial frequency (zero) to the set. Otherwise the solution fails for the trivial case: [-1, +1]"
   ]
  },
  {
   "cell_type": "code",
   "execution_count": 43,
   "metadata": {},
   "outputs": [
    {
     "data": {
      "text/plain": [
       "558"
      ]
     },
     "execution_count": 43,
     "metadata": {},
     "output_type": "execute_result"
    }
   ],
   "source": [
    "def part2():\n",
    "    chgs = [int(x) for x in input]\n",
    "    \n",
    "    f = 0                  #starting frequency\n",
    "    visited = set([f])     #store the starting frequency\n",
    "    for c in cycle(chgs): \n",
    "        f += c\n",
    "        if f in visited:\n",
    "            return f\n",
    "        else:\n",
    "            visited.add(f)\n",
    "\n",
    "part2()"
   ]
  },
  {
   "cell_type": "markdown",
   "metadata": {},
   "source": [
    "That's our second star. The first puzzle and first day are completed.\n",
    "\n",
    "### [Day 2](https://adventofcode.com/2018/day/2): Inventory Management System\n",
    "\n",
    "Today the input is a list of box IDs"
   ]
  },
  {
   "cell_type": "code",
   "execution_count": 50,
   "metadata": {
    "scrolled": true
   },
   "outputs": [
    {
     "data": {
      "text/plain": [
       "['bazvmqthjtrnlosiecxyghkwud',\n",
       " 'pazvmqbijirzlosiecxyghkwud',\n",
       " 'pazvtqbmjtrnlosiecxyghkwzd',\n",
       " 'pazvmqbfjtrjlosnlcxyghkwud',\n",
       " 'pazvkqbfjtrtlosiecjyghkwud',\n",
       " 'paztmqbfjtrnbosiecxyglkwud',\n",
       " 'pazvmqbfjtunlosievxmghkwud',\n",
       " 'pazvmqbfjtmngosiecyyghkwud',\n",
       " 'jazvmqbfjtrnlosiecxygikpud',\n",
       " 'pazvqqbfctrnlosimcxyghkwud']"
      ]
     },
     "execution_count": 50,
     "metadata": {},
     "output_type": "execute_result"
    }
   ],
   "source": [
    "with open('input/d2.txt', 'r') as f:\n",
    "   ids = f.read().splitlines()\n",
    "        \n",
    "ids[:10]"
   ]
  },
  {
   "cell_type": "markdown",
   "metadata": {},
   "source": [
    "##### Part One\n",
    "\n",
    "Our objective is to identify the number of box IDs that contain a letter which appears exactly twice and those that have a letter that appears exactly three times. Multiplying these two numbers produces a \"checksum\" which is the answer to our puzzle.\n",
    "\n",
    "> What is the checksumfor your list of box IDs?"
   ]
  },
  {
   "cell_type": "code",
   "execution_count": 47,
   "metadata": {},
   "outputs": [
    {
     "data": {
      "text/plain": [
       "8296"
      ]
     },
     "execution_count": 47,
     "metadata": {},
     "output_type": "execute_result"
    }
   ],
   "source": [
    "def part1():   \n",
    "    has_two = 0\n",
    "    has_three = 0\n",
    "\n",
    "    for i in ids:\n",
    "        c = Counter(i)\n",
    "        if len([k for k,v in c.items() if v == 2]) > 0:\n",
    "            has_two += 1\n",
    "        if len([k for k,v in c.items() if v == 3]) > 0:\n",
    "            has_three += 1\n",
    "            \n",
    "    return has_two * has_three\n",
    "\n",
    "part1()\n"
   ]
  },
  {
   "cell_type": "markdown",
   "metadata": {},
   "source": [
    "#### Part Two\n",
    "\n",
    "The boxes full of prototype fabric will have IDs which differ by exactly one character at the same position in both strings\n",
    "\n",
    "> What letters are common between the two correct box IDs?\n",
    "\n",
    "Let's start by identifying the boxes that differ by exactly one letter at the same position."
   ]
  },
  {
   "cell_type": "code",
   "execution_count": 55,
   "metadata": {},
   "outputs": [
    {
     "name": "stdout",
     "output_type": "stream",
     "text": [
      "Candidate boxes: pazvmqbfjtrbeosiecxlghkwud and pazvmqbfotrbeosiecxlghkwud\n"
     ]
    }
   ],
   "source": [
    "def part2():    \n",
    "    for boxID1 in ids:\n",
    "        for boxID2 in ids:\n",
    "            if len([i for i in range(len(boxID1)) if boxID1[i] != boxID2[i]]) == 1:\n",
    "                print('Candidate boxes: {} and {}'.format(boxID1, boxID2))\n",
    "                return (boxID1, boxID2)\n",
    "            \n",
    "(boxID1, boxID2) = part2()                "
   ]
  },
  {
   "cell_type": "markdown",
   "metadata": {},
   "source": [
    "We found our candidate boxes, we need just to find the letters that are common to both boxes - this is as simple as removing the differing character from either of the boxes."
   ]
  },
  {
   "cell_type": "code",
   "execution_count": 58,
   "metadata": {},
   "outputs": [
    {
     "data": {
      "text/plain": [
       "'pazvmqbftrbeosiecxlghkwud'"
      ]
     },
     "execution_count": 58,
     "metadata": {},
     "output_type": "execute_result"
    }
   ],
   "source": [
    "ans = []\n",
    "for i in range(len(boxID1)):\n",
    "    if boxID1[i] == boxID2[i]:\n",
    "        ans.append(boxID1[i])\n",
    "        \n",
    "\"\".join(ans)"
   ]
  },
  {
   "cell_type": "markdown",
   "metadata": {},
   "source": [
    "That's our second star. The second puzzle and second day are completed."
   ]
  }
 ],
 "metadata": {
  "kernelspec": {
   "display_name": "Python 3",
   "language": "python",
   "name": "python3"
  },
  "language_info": {
   "codemirror_mode": {
    "name": "ipython",
    "version": 3
   },
   "file_extension": ".py",
   "mimetype": "text/x-python",
   "name": "python",
   "nbconvert_exporter": "python",
   "pygments_lexer": "ipython3",
   "version": "3.6.6"
  }
 },
 "nbformat": 4,
 "nbformat_minor": 2
}
