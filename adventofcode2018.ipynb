{
 "cells": [
  {
   "cell_type": "markdown",
   "metadata": {},
   "source": [
    "### Advent of Code 2018\n",
    "\n",
    "Starting on 1 December 2018 and, every day until the 25 December 2018, a new two-part puzzle is available. Providing a correct answer to the first part of the puzzle will give you a gold star. If you complete both parts, you receive... two gold stars. The description for the second part of the puzzle is only shown after solving part one. \n",
    "\n",
    "I will not copy here the complete descriptions of the puzzle. Follow the links in each section to understand what is asked in each puzzle.\n",
    "\n",
    "Let's start with some imports and functions that will be useful in the resolution of the puzzles."
   ]
  },
  {
   "cell_type": "code",
   "execution_count": 1,
   "metadata": {},
   "outputs": [],
   "source": [
    "import os\n",
    "from collections import defaultdict, Counter\n",
    "from itertools import cycle, product\n",
    "from datetime import datetime\n",
    "import re\n",
    "import string \n",
    "\n",
    "#file input\n",
    "def read_input(day, file_path='input/d{}.txt'):\n",
    "    with open(file_path.format(day), 'r') as f:\n",
    "        _input = f.read().splitlines()\n",
    "        \n",
    "    return _input"
   ]
  },
  {
   "cell_type": "markdown",
   "metadata": {},
   "source": [
    "### [Day 1: Chronal Calibration](https://adventofcode.com/2018/day/1)\n",
    "\n",
    "The input for the first puzzle is a list of integers, one per line, representing the frequency changes. Let's have a look at the first few lines in the input file."
   ]
  },
  {
   "cell_type": "code",
   "execution_count": 2,
   "metadata": {},
   "outputs": [
    {
     "data": {
      "text/plain": [
       "['-8', '-18', '-14', '-10', '-7', '-10', '-16', '+19', '-5', '-7']"
      ]
     },
     "execution_count": 2,
     "metadata": {},
     "output_type": "execute_result"
    }
   ],
   "source": [
    "input_d01 = read_input('01')\n",
    "        \n",
    "input_d01[:10]"
   ]
  },
  {
   "cell_type": "markdown",
   "metadata": {},
   "source": [
    "##### Part One\n",
    "> Starting with a frequency of zero, what is the resulting frequency after all of the changes in frequency have been applied?\n",
    "\n",
    "That's easy! The resulting frequency corresponds to the sum of all the frequency changes"
   ]
  },
  {
   "cell_type": "code",
   "execution_count": 3,
   "metadata": {},
   "outputs": [
    {
     "data": {
      "text/plain": [
       "497"
      ]
     },
     "execution_count": 3,
     "metadata": {},
     "output_type": "execute_result"
    }
   ],
   "source": [
    "def d01_p1():\n",
    "    chgs = [int(x) for x in input_d01]\n",
    "        \n",
    "    return sum(chgs)\n",
    "\n",
    "d01_p1()"
   ]
  },
  {
   "cell_type": "markdown",
   "metadata": {},
   "source": [
    "Submiting the output above will earn us our first star. On to part 2\n",
    "\n",
    "##### Part Two\n",
    "> What is the first frequency your device reaches twice?\n",
    "\n",
    "Reading carefully the description we realize that we have to loop multiple times over the input frequency changes. After a quick search I found __[itertools.cycle](https://docs.python.org/3.6/library/itertools.html#itertools.cycle)__. This allow us to make an iterator that repeats indefinitely over the elementos of the input list. In each iteration, the resulting frequency is added to the set if not visited previously. The process stops when a match is found in the set.  \n",
    "\n",
    "<b>Important:</b> Remember to add the initial frequency (zero) to the set. Otherwise the solution fails for the trivial case: [-1, +1]"
   ]
  },
  {
   "cell_type": "code",
   "execution_count": 4,
   "metadata": {},
   "outputs": [
    {
     "data": {
      "text/plain": [
       "558"
      ]
     },
     "execution_count": 4,
     "metadata": {},
     "output_type": "execute_result"
    }
   ],
   "source": [
    "def d01_p2():\n",
    "    chgs = [int(x) for x in input_d01]\n",
    "    \n",
    "    f = 0                  #starting frequency\n",
    "    visited = set([f])     #store the starting frequency\n",
    "    for c in cycle(chgs): \n",
    "        f += c\n",
    "        if f in visited:\n",
    "            return f\n",
    "        else:\n",
    "            visited.add(f)\n",
    "\n",
    "d01_p2()"
   ]
  },
  {
   "cell_type": "markdown",
   "metadata": {},
   "source": [
    "That's our second star. The first puzzle and first day are completed.\n",
    "\n",
    "### [Day 2: Inventory Management System](https://adventofcode.com/2018/day/2)\n",
    "\n",
    "Today the input is a list of box IDs"
   ]
  },
  {
   "cell_type": "code",
   "execution_count": 5,
   "metadata": {
    "scrolled": false
   },
   "outputs": [
    {
     "data": {
      "text/plain": [
       "['bazvmqthjtrnlosiecxyghkwud',\n",
       " 'pazvmqbijirzlosiecxyghkwud',\n",
       " 'pazvtqbmjtrnlosiecxyghkwzd',\n",
       " 'pazvmqbfjtrjlosnlcxyghkwud',\n",
       " 'pazvkqbfjtrtlosiecjyghkwud',\n",
       " 'paztmqbfjtrnbosiecxyglkwud',\n",
       " 'pazvmqbfjtunlosievxmghkwud',\n",
       " 'pazvmqbfjtmngosiecyyghkwud',\n",
       " 'jazvmqbfjtrnlosiecxygikpud',\n",
       " 'pazvqqbfctrnlosimcxyghkwud']"
      ]
     },
     "execution_count": 5,
     "metadata": {},
     "output_type": "execute_result"
    }
   ],
   "source": [
    "input_d02 = read_input('02')\n",
    "        \n",
    "input_d02[:10]"
   ]
  },
  {
   "cell_type": "markdown",
   "metadata": {},
   "source": [
    "##### Part One\n",
    "\n",
    "Our objective is to identify the number of box IDs that contain a letter which appears exactly twice and those that have a letter that appears exactly three times. Multiplying these two numbers produces a \"checksum\" which is the answer to our puzzle.\n",
    "\n",
    "> What is the checksumfor your list of box IDs?"
   ]
  },
  {
   "cell_type": "code",
   "execution_count": 6,
   "metadata": {},
   "outputs": [
    {
     "data": {
      "text/plain": [
       "8296"
      ]
     },
     "execution_count": 6,
     "metadata": {},
     "output_type": "execute_result"
    }
   ],
   "source": [
    "def d02_p1():   \n",
    "    has_two = 0\n",
    "    has_three = 0\n",
    "\n",
    "    for i in input_d02:\n",
    "        c = Counter(i)\n",
    "        if len([k for k,v in c.items() if v == 2]) > 0:\n",
    "            has_two += 1\n",
    "        if len([k for k,v in c.items() if v == 3]) > 0:\n",
    "            has_three += 1\n",
    "            \n",
    "    return has_two * has_three\n",
    "\n",
    "d02_p1()\n"
   ]
  },
  {
   "cell_type": "markdown",
   "metadata": {},
   "source": [
    "#### Part Two\n",
    "\n",
    "The boxes full of prototype fabric will have IDs which differ by exactly one character at the same position in both strings\n",
    "\n",
    "> What letters are common between the two correct box IDs?\n",
    "\n",
    "Let's start by identifying the boxes that differ by exactly one letter at the same position."
   ]
  },
  {
   "cell_type": "code",
   "execution_count": 7,
   "metadata": {},
   "outputs": [
    {
     "name": "stdout",
     "output_type": "stream",
     "text": [
      "Candidate boxes: pazvmqbfjtrbeosiecxlghkwud and pazvmqbfotrbeosiecxlghkwud\n"
     ]
    }
   ],
   "source": [
    "def d02_p2():    \n",
    "    for box_id1 in input_d02:\n",
    "        for box_id2 in input_d02:\n",
    "            if len([i for i in range(len(box_id1)) if box_id1[i] != box_id2[i]]) == 1:\n",
    "                print('Candidate boxes: {} and {}'.format(box_id1, box_id2))\n",
    "                return (box_id1, box_id2)\n",
    "            \n",
    "(box_id1, box_id2) = d02_p2()                "
   ]
  },
  {
   "cell_type": "markdown",
   "metadata": {},
   "source": [
    "We found our candidate boxes, we need just to find the letters that are common to both boxes - this is as simple as removing the differing character from either of the boxes."
   ]
  },
  {
   "cell_type": "code",
   "execution_count": 8,
   "metadata": {},
   "outputs": [
    {
     "data": {
      "text/plain": [
       "'pazvmqbftrbeosiecxlghkwud'"
      ]
     },
     "execution_count": 8,
     "metadata": {},
     "output_type": "execute_result"
    }
   ],
   "source": [
    "ans = []\n",
    "for i in range(len(box_id1)):\n",
    "    if box_id1[i] == box_id2[i]:\n",
    "        ans.append(box_id1[i])\n",
    "        \n",
    "\"\".join(ans)"
   ]
  },
  {
   "cell_type": "markdown",
   "metadata": {},
   "source": [
    "That's our second star. The second puzzle and second day are completed.\n",
    "\n",
    "### [Day 3: No Matter How You Slice It](https://adventofcode.com/2018/day/3)\n",
    "\n",
    "Today's input is a list of claims.\n",
    "\n",
    "Each Elf has made a claim about which area of fabric would be ideal for Santa's suit. All claims have an ID and consist of a single rectangle with edges parallel to the edges of the fabric. Each claim's rectangle is defined as follows:\n",
    "\n",
    "    The number of inches between the left edge of the fabric and the left edge of the rectangle.\n",
    "    The number of inches between the top edge of the fabric and the top edge of the rectangle.\n",
    "    The width of the rectangle in inches.\n",
    "    The height of the rectangle in inches.\n",
    "    \n",
    "#### Part One    \n",
    "    \n",
    "> How many square inches of fabric are within two or more claims?    \n"
   ]
  },
  {
   "cell_type": "code",
   "execution_count": 9,
   "metadata": {},
   "outputs": [
    {
     "data": {
      "text/plain": [
       "['#1 @ 151,671: 11x15',\n",
       " '#2 @ 887,913: 28x22',\n",
       " '#3 @ 808,917: 17x11',\n",
       " '#4 @ 727,230: 26x26',\n",
       " '#5 @ 638,853: 21x20',\n",
       " '#6 @ 713,106: 17x18',\n",
       " '#7 @ 745,709: 18x15',\n",
       " '#8 @ 550,92: 29x19',\n",
       " '#9 @ 389,659: 26x24',\n",
       " '#10 @ 501,813: 27x29']"
      ]
     },
     "execution_count": 9,
     "metadata": {},
     "output_type": "execute_result"
    }
   ],
   "source": [
    "input_d03 = read_input('03')\n",
    "        \n",
    "input_d03[:10]"
   ]
  },
  {
   "cell_type": "markdown",
   "metadata": {},
   "source": [
    "Let's first start by parsing the input file. Each line represents a claim with format: \n",
    "\n",
    "> \\#claimID @ x,y: wxh\n",
    "\n",
    "We could do this using the function [split()](https://docs.python.org/3/library/stdtypes.html#str.split) to partition the line into words and extract the claim details, or using the fact that all the claim attributes are integers, we can create a simple regex to match an integer and [findall()](https://docs.python.org/3/library/re.html#re.findall) to return all the instances of these in the input."
   ]
  },
  {
   "cell_type": "code",
   "execution_count": 10,
   "metadata": {},
   "outputs": [
    {
     "data": {
      "text/plain": [
       "['1', '151', '671', '11', '15']"
      ]
     },
     "execution_count": 10,
     "metadata": {},
     "output_type": "execute_result"
    }
   ],
   "source": [
    "re.findall(r'\\d+', input_d03[0])"
   ]
  },
  {
   "cell_type": "markdown",
   "metadata": {},
   "source": [
    "Let's lay all the claims on the fabric for Santa's suit"
   ]
  },
  {
   "cell_type": "code",
   "execution_count": 11,
   "metadata": {},
   "outputs": [
    {
     "data": {
      "image/png": "[encoded data removed]",
      "text/plain": [
       "<Figure size 576x576 with 1 Axes>"
      ]
     },
     "metadata": {
      "needs_background": "light"
     },
     "output_type": "display_data"
    }
   ],
   "source": [
    "import numpy as np\n",
    "\n",
    "%matplotlib inline\n",
    "import matplotlib.pyplot as plt\n",
    "from matplotlib.collections import PatchCollection\n",
    "from matplotlib.patches import Rectangle\n",
    "from matplotlib import cm\n",
    "\n",
    "fabric = np.zeros(shape=(1000,1000))\n",
    "\n",
    "patches = []\n",
    "fig, ax = plt.subplots(figsize=(8,8))\n",
    "ax.set_title(\"Claims\")\n",
    "\n",
    "for claim in input_d03:\n",
    "    claimID, x, y, w, h = [int(n) for n in re.findall('\\d+', claim)]\n",
    "    fabric[y:y+h,x:x+w] += 1\n",
    "    \n",
    "    patches.append(Rectangle((x,y), w,h, label=str(claimID)))\n",
    "    \n",
    "pc = PatchCollection(patches, alpha=0.5, facecolor=None, edgecolor=\"white\")\n",
    "ax.add_collection(pc)\n",
    "\n",
    "ax.imshow(fabric);"
   ]
  },
  {
   "cell_type": "markdown",
   "metadata": {},
   "source": [
    "We can use a [dictionary](https://docs.python.org/3/library/collections.html#collections.defaultdict) to store all the claimed squares and the number of times each was claimed. The answer to part one of the puzzle corresponds to the number of keys in the dictionary that have a value greater than one."
   ]
  },
  {
   "cell_type": "code",
   "execution_count": 12,
   "metadata": {},
   "outputs": [
    {
     "data": {
      "text/plain": [
       "124850"
      ]
     },
     "execution_count": 12,
     "metadata": {},
     "output_type": "execute_result"
    }
   ],
   "source": [
    "def d03_p1():\n",
    "    claimed_squares = defaultdict(int)\n",
    "    for claim in input_d03:\n",
    "        claim_id, x, y, w, h = [int(n) for n in re.findall('\\d+', claim)]\n",
    "        for xy in product(range(x, x+w), range(y, y+h)):\n",
    "            claimed_squares[xy] += 1\n",
    "    return sum(1 for v in claimed_squares.values() if v > 1)\n",
    "\n",
    "d03_p1()"
   ]
  },
  {
   "cell_type": "markdown",
   "metadata": {},
   "source": [
    "#### Part Two\n",
    "> What is the ID of the only claim that doesn't overlap?\n",
    "\n",
    "A claim will not overlap with any other claim if all its squares have value one in the claimedSquares dictionary."
   ]
  },
  {
   "cell_type": "code",
   "execution_count": 13,
   "metadata": {},
   "outputs": [
    {
     "data": {
      "text/plain": [
       "1097"
      ]
     },
     "execution_count": 13,
     "metadata": {},
     "output_type": "execute_result"
    }
   ],
   "source": [
    "def d03_p2():\n",
    "    claimed_squares = defaultdict(int)\n",
    "    #store claims\n",
    "    for claim in input_d03:\n",
    "        claim_id, x, y, w, h = [int(n) for n in re.findall('\\d+', claim)]\n",
    "        for xy in product(range(x, x+w), range(y, y+h)):\n",
    "            claimed_squares[xy] += 1\n",
    "            \n",
    "    #find the claim with squares not claimed by any other Elf\n",
    "    for claim in input_d03:\n",
    "        claim_id, x, y, w, h = [int(n) for n in re.findall('\\d+', claim)]\n",
    "        if all(claimed_squares[xy] == 1 for xy in product(range(x, x+w), range(y, y+h))):\n",
    "            return claim_id\n",
    "        \n",
    "d03_p2()"
   ]
  },
  {
   "cell_type": "markdown",
   "metadata": {},
   "source": [
    "And that's the third day completed!\n",
    "\n",
    "### [Day 4: Repose Record](https://adventofcode.com/2018/day/4)\n",
    "\n",
    "For day four we are given a log containing the ID of the guard on duty on a given night as well as when they fall asleep or wake up while at their post. \n",
    "\n",
    "#### Part One\n",
    "\n",
    ">Find the guard that has the most minutes asleep. What minute does that guard spend asleep the most?  \n",
    ">What is the ID of the guard you chose multiplied by the minute you chose?\n",
    "\n",
    "As usual, let's start by having a look at the format of our puzzle input."
   ]
  },
  {
   "cell_type": "code",
   "execution_count": 14,
   "metadata": {},
   "outputs": [
    {
     "data": {
      "text/plain": [
       "['[1518-05-24 23:56] Guard #1721 begins shift',\n",
       " '[1518-08-22 00:09] falls asleep',\n",
       " '[1518-05-19 00:53] wakes up',\n",
       " '[1518-04-19 23:48] Guard #773 begins shift',\n",
       " '[1518-09-24 00:35] wakes up',\n",
       " '[1518-07-15 00:56] wakes up',\n",
       " '[1518-08-10 00:03] Guard #769 begins shift',\n",
       " '[1518-07-10 00:50] wakes up',\n",
       " '[1518-07-12 00:54] falls asleep',\n",
       " '[1518-05-30 00:51] wakes up']"
      ]
     },
     "execution_count": 14,
     "metadata": {},
     "output_type": "execute_result"
    }
   ],
   "source": [
    "input_d04 = read_input('04')\n",
    "        \n",
    "input_d04[:10]"
   ]
  },
  {
   "cell_type": "markdown",
   "metadata": {},
   "source": [
    "As all asleep/awake times are during the midnight hour (00:00 - 00:59), only the minute portion (00 - 59) is relevant for those events. We can store the guards sleep patterns in a dictionary of lists (of integers), where each list has 60 elements."
   ]
  },
  {
   "cell_type": "code",
   "execution_count": 15,
   "metadata": {},
   "outputs": [],
   "source": [
    "def sleep_pattern():\n",
    "    sleep = defaultdict(lambda:[0 for x in range(60)]) # sleepTimes[guard] = [1, 0, 0, 1...]\n",
    "    #sleep = defaultdict(lambda: defaultdict(int))\n",
    "    #Compute the sleep times for all the guards\n",
    "    for event in sorted(input_d04):\n",
    "        time, action = event[1:].split(\"] \")\n",
    "        date = datetime.strptime(time, '%Y-%m-%d %H:%M')\n",
    "\n",
    "        if \"Guard\" in action:\n",
    "            guard = int(re.findall(\"[\\d]+\", action)[0])\n",
    "        elif \"asleep\" in action:\n",
    "            start = date.minute\n",
    "        elif \"wakes\" in action:\n",
    "            end = date.minute\n",
    "            for m in range(start, end):\n",
    "                sleep[guard][m] += 1\n",
    "    \n",
    "    return sleep"
   ]
  },
  {
   "cell_type": "code",
   "execution_count": 16,
   "metadata": {},
   "outputs": [
    {
     "data": {
      "text/plain": [
       "38813"
      ]
     },
     "execution_count": 16,
     "metadata": {},
     "output_type": "execute_result"
    }
   ],
   "source": [
    "def d04_p1():\n",
    "    sleep = sleep_pattern()\n",
    "    \n",
    "    guard_most_sleep = max(sleep.keys(), key = (lambda g: sum(sleep[g])))\n",
    "    minute_most_asleep = sleep[guard_most_sleep].index(max(sleep[guard_most_sleep]))\n",
    "    \n",
    "    return guard_most_sleep * minute_most_asleep\n",
    "\n",
    "d04_p1()"
   ]
  },
  {
   "cell_type": "markdown",
   "metadata": {},
   "source": [
    "#### Part Two\n",
    "\n",
    "> Of all guards, which guard is most frequently asleep on the same minute?  \n",
    "> What is the ID of the guard you chose multiplied by the minute you chose?"
   ]
  },
  {
   "cell_type": "code",
   "execution_count": 17,
   "metadata": {},
   "outputs": [
    {
     "data": {
      "text/plain": [
       "141071"
      ]
     },
     "execution_count": 17,
     "metadata": {},
     "output_type": "execute_result"
    }
   ],
   "source": [
    "def d04_p2():\n",
    "    sleep = sleep_pattern()\n",
    "    \n",
    "    guard_most_sleep_minute = max(sleep.keys(), key=lambda g: max(sleep[g]))\n",
    "    minute_most_asleep = sleep[guard_most_sleep_minute].index(max(sleep[guard_most_sleep_minute]))\n",
    "\n",
    "    return guard_most_sleep_minute * minute_most_asleep\n",
    "\n",
    "d04_p2()\n"
   ]
  },
  {
   "cell_type": "markdown",
   "metadata": {},
   "source": [
    "### [Day 5: Alchemical Reduction](https://adventofcode.com/2018/day/5)\n",
    "\n",
    "In day five we analyse the chemical composition of santa's suit's material. The suit's material is made of a polymer formed by smaller units which, when triggered, react with each other such that two adjacent units of the same type and opposite polarity are destroyed. \n",
    "\n",
    "#### Part One\n",
    "\n",
    ">How many units remain after fully reacting the polymer you scanned?"
   ]
  },
  {
   "cell_type": "code",
   "execution_count": 35,
   "metadata": {},
   "outputs": [
    {
     "data": {
      "text/plain": [
       "'bBkKQqgaAGzyYZCcGgXVvGgxQxtTXwWqJOojHhWwHhAaIZKkzcCCcHhqhHbBnNNnTtFfQzZiGgeEmHhg'"
      ]
     },
     "execution_count": 35,
     "metadata": {},
     "output_type": "execute_result"
    }
   ],
   "source": [
    "input_d05 = read_input('05')[0]\n",
    "\n",
    "input_d05[:80]"
   ]
  },
  {
   "cell_type": "markdown",
   "metadata": {},
   "source": [
    "Units' types are represented by letters; units' polarity is represented by capitalization. For instance, r and R are units with the same type but opposite polarity, whereas r and s are entirely different types and do not react. We know that \n",
    "\n",
    "    The ASCII codes for a-z are 97-122  \n",
    "    The ASCII codes for A-Z are 65-90\n",
    "\n",
    "So, for any given upper case letter, we obtain its corresponding lower case counterparty by adding 32 to its ASCII code. For example, \n",
    ">The ASCII code for 'A' = 65 and 65 + 32 = 97 which is the ASCII code for 'a'. \n",
    "\n",
    "We can use this information to define a small function that checks if two units react. "
   ]
  },
  {
   "cell_type": "code",
   "execution_count": 75,
   "metadata": {},
   "outputs": [],
   "source": [
    "def react(unit1, unit2):\n",
    "    return abs(ord(unit1)-ord(unit2)) == 32"
   ]
  },
  {
   "cell_type": "markdown",
   "metadata": {},
   "source": [
    "We can use this function as we iterate over the list to fully react the polymer"
   ]
  },
  {
   "cell_type": "code",
   "execution_count": 88,
   "metadata": {},
   "outputs": [
    {
     "data": {
      "text/plain": [
       "10598"
      ]
     },
     "execution_count": 88,
     "metadata": {},
     "output_type": "execute_result"
    }
   ],
   "source": [
    "def react_polymer(polymer):\n",
    "    res = []\n",
    "    res.append(polymer[0])\n",
    "    \n",
    "    for p in polymer[1:]:\n",
    "        if len(res) > 0 and react(p, res[-1]):\n",
    "            res.pop()\n",
    "        else:\n",
    "            res.append(p)\n",
    "    \n",
    "    return len(res)\n",
    "\n",
    "def d05_p1(polymer):   \n",
    "    return react_polymer(polymer)\n",
    "    \n",
    "d05_p1(input_d05)"
   ]
  },
  {
   "cell_type": "markdown",
   "metadata": {},
   "source": [
    "#### Part Two\n",
    "\n",
    "> What is the length of the shortest polymer you can produce by removing all units of exactly one type and fully reacting the result?"
   ]
  },
  {
   "cell_type": "code",
   "execution_count": 89,
   "metadata": {},
   "outputs": [
    {
     "data": {
      "text/plain": [
       "5312"
      ]
     },
     "execution_count": 89,
     "metadata": {},
     "output_type": "execute_result"
    }
   ],
   "source": [
    "def d05_p2(polymer):\n",
    "    units = set([c.lower() for c in polymer])\n",
    "\n",
    "    return min([react_polymer(polymer.replace(u, '').replace(u.upper(), '')) for u in units])\n",
    "\n",
    "d05_p2(input_d05)   "
   ]
  },
  {
   "cell_type": "markdown",
   "metadata": {},
   "source": []
  }
 ],
 "metadata": {
  "kernelspec": {
   "display_name": "Python 3",
   "language": "python",
   "name": "python3"
  },
  "language_info": {
   "codemirror_mode": {
    "name": "ipython",
    "version": 3
   },
   "file_extension": ".py",
   "mimetype": "text/x-python",
   "name": "python",
   "nbconvert_exporter": "python",
   "pygments_lexer": "ipython3",
   "version": "3.6.6"
  }
 },
 "nbformat": 4,
 "nbformat_minor": 2
}
